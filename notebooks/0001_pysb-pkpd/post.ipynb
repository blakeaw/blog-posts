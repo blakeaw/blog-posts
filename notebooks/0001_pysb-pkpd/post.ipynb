{
 "cells": [
  {
   "cell_type": "markdown",
   "id": "108531aa-225e-4afb-b51e-ed972817c905",
   "metadata": {},
   "source": [
    "# Modeling Drug Dynamics using Programmatic PK/PD Models in Python \n",
    "## An Introduction to PK/PD Modeling using PySB and pysb-pkpd\n",
    "\n",
    "tags: [Python, pharmacology, PK/PD, QSP, PySB]"
   ]
  },
  {
   "cell_type": "markdown",
   "id": "e5ad21f3-ddb9-445d-89ad-6b4434e9eb5e",
   "metadata": {},
   "source": [
    "![image](https://drive.google.com/uc?id=1H1E_hIdDgICcKBXAjTWj77r2-AB7QCdp)"
   ]
  },
  {
   "cell_type": "markdown",
   "id": "57b8e223-4b73-482e-90f2-5d5d7ee1b7a9",
   "metadata": {
    "jp-MarkdownHeadingCollapsed": true
   },
   "source": [
    "Over the past few months, I've been spending time here and there learning some of the basics of Pharmacokinetic (PK) and Pharmacodynamic (PD) modeling and how they are used together in PK/PD models to understand drug pharmacology. I've also been developing a PK/PD-focused add-on for the [PySB](https://pysb.org/) modeling framework, [pysb-pkpd](https://github.com/blakeaw/pysb-pkpd), which I believe to be a great option for programmatically constructing and executing various types of compartmental PK/PD models in Python. Particularly, since there don't seem to be many free and open-source tools for PK/PD modeling in Python. With this post, I wanted to compile and share some of what I've learned while also providing a practical resource for others potentially interested in programmatic PK/PD modeling in Python using [PySB](https://pysb.org/) and [pysb-pkpd](https://github.com/blakeaw/pysb-pkpd). \n",
    "\n",
    "So, in this post, we'll start with the basics of PK/PD modeling and a quick overview of the PySB framework. Then we'll dive into creating dynamic PK/PD models of drug behavior and response using PySB and pysb-pkpd, featuring two illustrative case studies.\n",
    "\n",
    "______"
   ]
  },
  {
   "cell_type": "markdown",
   "id": "f8e10c72-10f0-4718-ae9b-efacb7eb17d0",
   "metadata": {},
   "source": [
    "## Contents\n",
    "\n",
    "1. What is PK/PD modeling?\n",
    "    1. Types of PK/PD Models\n",
    "    2. Additional PK terms\n",
    "    3. PD Functions\n",
    "2. Setting Up Your Python Environment\n",
    "3. A Quick Intro to PySB Models\n",
    "    1. Compartmental PySB Models\n",
    "5. PK/PD modeling with PySB and pysb-pkpd\n",
    "    1. What is pysb-pkpd?\n",
    "    2. Case Study 1: Building a two-compartment model\n",
    "        1. Standard PySB\n",
    "        2. PySB plus pysb-pkpd\n",
    "        3. Comparison\n",
    "        4. Simulate the models\n",
    "    3. Case Study 2: Pembrolizumab semi-mechanistic PKRO model\n",
    "        1. Constructing the Model\n",
    "        2. Simulate the Model\n",
    "        3. Visualize Results\n",
    "6. Concluding Thoughts\n",
    "7. Acknowledgements\n",
    "8. References\n",
    "\n",
    "______"
   ]
  },
  {
   "cell_type": "markdown",
   "id": "97782259-cea9-498c-b7f0-d6f8a1c22f84",
   "metadata": {},
   "source": [
    "## What is PK/PD modeling?\n",
    "\n",
    "Before getting into the specifics of using [PySB](https://pysb.org/) and [pysb-pkpd](https://github.com/blakeaw/pysb-pkpd), we'll briefly review some basic PK/PD modeling concepts. \n",
    "\n",
    "PK/PD models are mathematical models used to study the intricate relationships between pharmacokinetics and pharmacodynamics[<sup>1-3</sup>](#references), two essential branches of pharmacology that study what drugs do in and to the body. **Pharmacokinetics (PK)** describes the processes that affect drug concentration in the body[<sup>1,3,4</sup>](#references), including key processes related to how a drug enters the body or the circulatory system (i.e., absorption), how it moves through the body and partitions amongst the different tissues or organs (i.e., distribution), how the body chemically alters or breaks down the drug (i.e., metabolism), and how the drug or it's metabolites exit the body (i.e., excretion). You'll often see the acronym **ADME** used as an abbreviation for the processes of absorption, distribution, metabolism, and excretion,[<sup>4,5</sup>](#references); other similar acronyms may emphasize other important factors too (e.g., _ABCD_ or _ADMET_)[<sup>5</sup>](#references) **Pharmacodynamics (PD)** characterizes the relationship between drug concentration (or dose) and the resulting pharmacological effect<sup>1,3</sup>. Another way to think about it is that PK processes describe what the _body does to a drug_ after it is administered[<sup>1,6</sup>](#references), while PD describes what a _drug does to the body_. Importantly, PK/PD modeling integrates PK and PD to describe how the pharmacological effect of a drug changes over time[<sup>1-3</sup>](#references). \n",
    "\n",
    "In short, for a given drug dose[<sup>1</sup>](#references):\n",
    "  * PK = concentration vs. time\n",
    "  * PD = effect vs. concentration\n",
    "  * PK/PD = effect vs. time\n",
    "\n",
    "### Types of PK/PD Models\n",
    "\n",
    "There are various approaches to PK/PD modeling that can be employed depending on the type of data available, how well we understand the biological mechanisms of a drug, as well as other aspects of a drug's behavior and response. Here, we'll touch on three categories of PK/PD models that can be implemented using PySB and pysb-pkpd: compartmental models[<sup>4,7-9</sup>](#references), mechanistic/semi-mechanistic models[<sup>10,11</sup>](#references), and quantitative systems pharmacology/toxicology models[<sup>12-14</sup>](#references).\n",
    "\n",
    "#### Compartmental PK/PD Models\n",
    "\n",
    "Compartmental models partition the body into distinct hypothetical compartments[<sup>4,7-9</sup>](#references), each potentially representing a biological system in the body like the circulatory system, tissues, or organs. A drug moves between, or _distributes_ across, the compartments, approximating distribution in the body. These models may also include drug absorption and typically include drugs exiting the body through clearance or elimination (see: Additional PK terms). The number of compartments encodes the granularity level with which the drug distribution is modeled. Common compartmental models include:\n",
    "\n",
    "  * **One-Compartment Model**: Treats the body as a single compartment, a reasonable approximation for drugs that distribute quickly and uniformly throughout the body[<sup>4,7,9,15</sup>](#references). \n",
    "\n",
    "  * **Two-Compartment Model**: Breaks the body into a Central and a Peripheral compartment[<sup>4,7,9,15</sup>](#references). The Central compartment typically represents the circulatory system and well-perfused tissues, while the Peripheral compartment represents other tissues and organs that aren't well-perfused. This model is useful when there is a delay in the drug distribution from the circulatory system to other tissues. \n",
    "\n",
    "  * **Three-Compartment Model**: Builds on the two-compartment model by adding a second peripheral compartment[<sup>4,9</sup>](#references). This third compartment (e.g., Deep Peripheral, Deep Tissue, or Slow Peripheral), typically represents tissues with slower distribution kinetics, which is beneficial when a drug has multiple distribution phases because it distributes at different rates to different tissues.  \n",
    "\n",
    "In one-, two-, and three-compartment models, the compartments are really just theoretical constructs that facilitate empirical estimation of key PK parameters through fitting to clinical or other experimental data rather than a true representation of the body[<sup>4</sup>](#references). A drug's plasma concentration-time profile can suggest which model may be most appropriate[<sup>9,15</sup>](#references). In some cases, two- and three-compartment models may also be extended to have a separate _Effect_ compartment that can be used to capture an indirect link between drug concentration and effects[<sup>1,8</sup>](#references). \n",
    "\n",
    "More complex distribution scenarios between tissues and organs can be captured by increasing the number of compartments, as seen in physiologically-based PK (PBPK) models[<sup>16,17</sup>](#references). \n",
    "\n",
    "    \n",
    "#### Mechanistic/Semi-Mechanistic Models\n",
    "\n",
    "Mechanistic and semi-mechanistic models build on compartmental PK/PD models by incorporating more details of the drug's mechanism of action and the underlying biology that can help connect drug behavior with important biomarkers[<sup>10,11</sup>](#references). They can also be used to link effects with the dynamics of complex processes that can't be easily measured in experiments. For example, in classical [receptor theory](https://en.wikipedia.org/wiki/Receptor_theory), there is a pharmacodynamic relationship between the observed effect and receptor occupancy (RO). A semi-mechanistic model could incorporate additional mechanisms related to drug binding at the target receptor and the receptor's activation or inhibition, as well as processes like receptor turnover or other downstream products of receptor targeting. \n",
    "\n",
    "#### Quantitative Systems Pharmacology/Toxicology Models\n",
    "\n",
    "Quantitative systems pharmacology (QSP) models further build on mechanistic/semi-mechanistic PK/PD modeling with concepts from systems biology[<sup>12,13</sup>](#references). In QSP models, drug effects can be considered to arise out of complex networks of interactions that form a biological system and may incorporate additional details of biochemical signaling pathways, disease processes, and a drug's mechanism of action. Quantitative systems toxicology (QST) models similarly incorporate ideas of systems biology but focus on understanding and quantifying drug side effects as opposed to primary drug pharmacology[<sup>13,14</sup>](#references).       \n",
    "\n",
    "### Additional PK terms\n",
    "\n",
    "Here are a few more important terms used in PK modeling and analysis:\n",
    "\n",
    "  * **Dose**/**Dosage**: _Dose_ is how much drug is administered at a particular time[<sup>18</sup>](#references), while _Dosage_ refers to multiple doses taken over a period of time with a given frequency. Note that the administration route (e.g., oral vs. I.V.) along with the dose and/or dosage are critical considerations for any particular dosing strategy[<sup>19</sup>](#references).\n",
    "  * **Bioavailability ($\\beta$)**: the fraction of a drug dose that gets absorbed and can reach the site of action[<sup>5,20</sup>](#references). Often associated with administering a drug via an oral route where not all of the drug will enter circulation before being metabolized or excreted.\n",
    "  * **Volume of distribution ($V_d$)**: the theoretical volume into which an administered drug would be distributed to yield a measured plasma concentration[<sup>15,21,22</sup>](#references): $concentration = dose / V_d$. It can provide insight into a drug's tendency to stay in the plasma or disperse into tissues and organs. Importantly, $V_d$ may be not a fixed value. It can also be linked to compartment volumes in compartmental modeling. For instance, in a one-compartment model, $V_d$ equals the central compartment volume[<sup>15</sup>](#references). However, in multicompartment models, the relationship is more complicated. \n",
    "  * **Elimination**: removal of the drug from the body by processes like metabolism and excretion[<sup>23,24</sup>](#references). In PK models it is often modeled as a linear process with first-order reaction kinetics: i.e., _linear elimination_.\n",
    "  * **Clearance (CL)**: removal of drug from the plasma measured as the volume of plasma 'cleared' (i.e., free of drug) per unit time[<sup>15,24,25</sup>](#references). Or, alternatively, as the rate of drug _elimination_ (amount/time) divided by the drug's plasma concentration (amount/volume). With a compartmental model and assuming linear elimination, an associated first-order rate constant for the corresponding elimination process can be expressed as $k = CL / V_i $ with clearance $CL$ from a compartment with volume $V_i$. \n",
    "\n",
    "### PD functions\n",
    "\n",
    "The **Emax** class of functions is a common choice of PD functions when modeling a _direct effect_ (or _direct link_) in a PK/PD model[<sup>1,8,26</sup>](#references). These functions relate drug concentration (or dose) to effect using a non-linear sigmoid function, which is also common in biochemistry ([Hill or Hill-Langmuir equations](https://en.wikipedia.org/wiki/Hill_equation_(biochemistry))) and classic receptor theory (e.g., Clark equation): \n",
    "\n",
    "  * **Emax** - $E = E_{max} \\left[Drug\\right] / (\\left[Drug\\right] + EC_{50})$, where $E_{max}$ is termed the maximum effect and $EC_{50}$ is the concentration at which effect is at half-maximum[<sup>1,26</sup>](#references). If considering a baseline effect $E_0$, it can be expanded to $E = E_0 \\pm E_{max} \\left[Drug\\right] / (\\left[Drug\\right] + EC_{50})$.\n",
    "  * **Sigmoidal Emax** (or Sigmoid Emax) - the more generic form of the Emax function[<sup>1,26</sup>](#references): $E = E_{max} \\left[Drug\\right]^n / (\\left[Drug\\right]^n + EC_{50}^n)$, where $n$ the Hill slope and determines how the steepness of the sigmoid function jump. If considering a baseline effect $E_0$, it can be expanded to $E = E_0 \\pm E_{max} \\left[Drug\\right]^n / (\\left[Drug\\right]^n + EC_{50}^n)$. Note that the first **Emax** function is a special case of this one in which $n=1$. \n",
    "\n",
    "Some other possible PD functions include:\n",
    "    \n",
    "  * **Linear Effect Model** - the effect is just a linear function of drug concentration[<sup>1</sup>](#references): $E = m \\left[ Drug \\right]$ with slope $m$ or $E = m \\left[ Drug \\right] + E_0$ if considering a baseline effect $E_0$.\n",
    "  * **Log-linear Effect Model** - the effect varies linearly with the logarithm of the concentration[<sup>1</sup>](#references): $E = m \\log \\left[ Drug \\right] + b$ with slope $m$ and intercept $b$.\n",
    "  * **Fixed-Effect Model** - the effect has a fixed magnitude that only occurs after reaching some threshold concentration[<sup>1</sup>](#references): $E = E_{fixed}, \\,\\, \\left[ Drug \\right] > \\left[ Drug \\right]_{threshold}$ and zero otherwise.\n",
    "\n",
    "\n",
    "**Note**: In cases where there's a delay between drug concentration and its effect (_indirect link_; e.g., when peak concentration and peak effect don't align), it's possible to use a separate _Effect_ compartment in conjunction with a direct effect PD function to model this scenario[<sup>1,8</sup>](#references).  "
   ]
  },
  {
   "cell_type": "markdown",
   "id": "17646b83-c050-48f8-b7ff-2578c75849de",
   "metadata": {},
   "source": [
    "______\n",
    "\n",
    "## Setting Up Your Python Environment\n",
    "\n"
   ]
  },
  {
   "cell_type": "markdown",
   "id": "afcff0b7-62ee-4f0a-a289-972b16816de4",
   "metadata": {},
   "source": [
    "I recommend using a `conda` environment so you can more easily install PySB while managing other dependencies. These days, I prefer to use [miniconda](https://docs.conda.io/projects/miniconda/en/latest/) and then just install what I need in new environments. If you don't want to use `conda` you should still be able to follow along with some adjustments to the following steps. \n",
    "\n",
    "The main packages we need are [PySB](https://pysb.org/) and [pysb-pkpd](https://github.com/blakeaw/pysb-pkpd):\n",
    "\n",
    "**PySB**\n",
    "```\n",
    "conda install -c alubbock pysb\n",
    "```\n",
    "Other options for installation are available at the [PySB Download Page](https://pysb.org/download.html)\n",
    "\n",
    "**pysb-pkpd** - (currently version 0.2.1)\n",
    "```\n",
    "pip install git+https://github.com/blakeaw/pysb-pkpd@v0.2.1\n",
    "```\n",
    "\n",
    "\n",
    "I also recommend going ahead and installing [Cython](https://cython.org/). It is used by PySB to compile ODEs and improve the speed of the `ScipyOdeSimulator`, which we will be using here:\n",
    "\n",
    "```\n",
    "conda install cython\n",
    "```\n",
    "\n",
    "To make the plots demonstrated here be sure you have [matplotlib](https://matplotlib.org/):\n",
    "```\n",
    "conda install matplotlib seaborn\n",
    "```\n",
    "If you prefer some other plotting library you can swap out the plotting commands as needed. \n",
    "\n",
    "Lastly, for a more interactive and dynamic experience, I'd recommend following along and executing the examples in your own computational notebook. I like [JupyterLab](https://jupyter.org/):\n",
    "```\n",
    "pip install jupyterlab\n",
    "```\n",
    "However, you could also try something like [Google Colab](https://colab.google/) (although dependencies may be a little trickier).\n",
    "\n",
    "______"
   ]
  },
  {
   "cell_type": "markdown",
   "id": "d7a2ae1c-b13c-4764-ae72-aa6f16e5fba0",
   "metadata": {},
   "source": [
    "## A Quick Intro to PySB Models\n",
    "\n",
    "[PySB](https://pysb.org/) is a Python-based framework for systems biology modeling that allows users to programmatically encode and simulate mathematical models of complex biological systems using ordinary differential equations, stochastic differential equations, and network-free modeling approaches. PySB was originally developed for reaction modeling of intricate biochemical systems[<sup>27</sup>](#references), such as cell signaling pathways, adopting a rule-based approach that builds on the rule-based modeling platforms [BioNetGen](https://bionetgen.org/) and [Kappa](https://kappalanguage.org/). In rule-based modeling, a model is encoded using a simplified set of pattern-based _rules_ that describe biochemical actions (e.g., _Protein A binds Protein B_) rather than an explicit enumeration of all the reactions and molecular/complex species[<sup>27,28</sup>](#references). When using differential equation methods, the model rules are converted into a complex reaction network from which all the differential equations are then generated. This eliminates the need for the modeler to explicitly define all the differential equations of the model. \n",
    "\n",
    "What sets PySB apart though is its Pythonic approach in which model components are Python class-based objects[<sup>27</sup>](#references), allowing models to be expressed as Python programs rather than separate domain-specific language files. This design choice enables seamless integration, manipulation, and execution of PySB models within Python workflows. Furthermore, it promotes modularity and reusability by facilitating the encapsulation of recurring biochemical actions into reusable _macros_[<sup>27</sup>](#references). \n",
    "\n",
    "If you are new to PySB, I recommend starting with the PySB tutorial available at https://pysb.org/tutorials/ and then the more in-depth tutorial at https://pysb.readthedocs.io/en/stable/tutorial.html. These are excellent resources for beginners to learn the fundamentals of building and executing PySB models. You can also check out various example PySB models at https://github.com/pysb/pysb/tree/master/pysb/examples.\n",
    "\n",
    "### Compartmental PySB models\n",
    "\n",
    "Although mentioned in the in-depth PySB tutorial, compartments and their use in PySB models aren't thoroughly discussed or shown in the example models so we'll briefly touch on this here.\n",
    "\n",
    "A compartment is defined in a model with the `Compartment` class and is included in monomer patterns with the `**` operator. \n",
    "\n",
    "Let's build a simple compartmental model with reversible transfer between two compartments:"
   ]
  },
  {
   "cell_type": "markdown",
   "id": "1caf5e6f-1106-441d-8d4e-984348ca751a",
   "metadata": {},
   "source": [
    "![image](https://drive.google.com/uc?id=1PmBUAcBnOFA6rUk-2IfajVJGI69Y09av)"
   ]
  },
  {
   "cell_type": "markdown",
   "id": "cda8264f-5d38-46d6-a329-571f690f2aab",
   "metadata": {},
   "source": [
    "First, we'll import from `pysb`:"
   ]
  },
  {
   "cell_type": "code",
   "execution_count": 1,
   "id": "a976b587-7e19-48b5-8bdd-e14c98166115",
   "metadata": {},
   "outputs": [],
   "source": [
    "from pysb import *"
   ]
  },
  {
   "cell_type": "markdown",
   "id": "fa8b1f64-9834-4068-8a51-6e495758c8ed",
   "metadata": {},
   "source": [
    "Next, we can initialize the model:"
   ]
  },
  {
   "cell_type": "code",
   "execution_count": 2,
   "id": "fc45f5e8-8a46-4c11-bfd2-b5b7bd8dbc01",
   "metadata": {},
   "outputs": [
    {
     "data": {
      "text/plain": [
       "<Model 'compartmental' (monomers: 0, rules: 0, parameters: 0, expressions: 0, compartments: 0, energypatterns: 0) at 0x23fade15c50>"
      ]
     },
     "execution_count": 2,
     "metadata": {},
     "output_type": "execute_result"
    }
   ],
   "source": [
    "# 1. Initialize a new PySB model:\n",
    "Model(name='compartmental')\n",
    "# The model will be assigned to a local variable named compartmental."
   ]
  },
  {
   "cell_type": "markdown",
   "id": "8ba19a83-d10e-4b95-9b6d-fd74a3bf8d5d",
   "metadata": {},
   "source": [
    "Now, let's add the first compartment:"
   ]
  },
  {
   "cell_type": "code",
   "execution_count": 3,
   "id": "2d263e96-cb37-421c-a1cc-e3a39d93e891",
   "metadata": {},
   "outputs": [
    {
     "data": {
      "text/plain": [
       "Compartment(name='COMP_1', parent=None, dimension=3, size=None)"
      ]
     },
     "execution_count": 3,
     "metadata": {},
     "output_type": "execute_result"
    }
   ],
   "source": [
    "# 2. Add the two compartments:\n",
    "Compartment('COMP_1')"
   ]
  },
  {
   "cell_type": "markdown",
   "id": "796a4477-447b-4cdb-a757-1742b5ef5171",
   "metadata": {},
   "source": [
    "And, the second compartment:"
   ]
  },
  {
   "cell_type": "code",
   "execution_count": 4,
   "id": "b7426b9e-1227-4297-a0c3-a691c57d9f64",
   "metadata": {},
   "outputs": [
    {
     "data": {
      "text/plain": [
       "Compartment(name='COMP_2', parent=None, dimension=3, size=None)"
      ]
     },
     "execution_count": 4,
     "metadata": {},
     "output_type": "execute_result"
    }
   ],
   "source": [
    "Compartment('COMP_2')"
   ]
  },
  {
   "cell_type": "markdown",
   "id": "5ffd32ea-fec7-44ee-bbf3-e3db807f0990",
   "metadata": {},
   "source": [
    "Now, define the monomer for our model protein:"
   ]
  },
  {
   "cell_type": "code",
   "execution_count": 5,
   "id": "f863cb16-8c5c-4e4d-9a5e-4e793482c5b3",
   "metadata": {},
   "outputs": [
    {
     "data": {
      "text/plain": [
       "Monomer('protein')"
      ]
     },
     "execution_count": 5,
     "metadata": {},
     "output_type": "execute_result"
    }
   ],
   "source": [
    "# 3. Add a \"protein\" and initialize it in the\n",
    "# first compartment:\n",
    "Monomer('protein')"
   ]
  },
  {
   "cell_type": "markdown",
   "id": "b100fcb7-dad8-4b6d-b25c-f4dff415ea36",
   "metadata": {},
   "source": [
    "And, then define a parameter for the initial concentration of protein:"
   ]
  },
  {
   "cell_type": "code",
   "execution_count": 6,
   "id": "c222bbb7-1d9b-42bd-b512-06656be5c4bd",
   "metadata": {},
   "outputs": [
    {
     "data": {
      "text/latex": [
       "$\\displaystyle protein_{0}$"
      ],
      "text/plain": [
       "Parameter('protein_0', 100.0)"
      ]
     },
     "execution_count": 6,
     "metadata": {},
     "output_type": "execute_result"
    }
   ],
   "source": [
    "Parameter('protein_0', 100.)"
   ]
  },
  {
   "cell_type": "markdown",
   "id": "aaf43c24-b61c-4caa-a718-1d07c0b7b7f2",
   "metadata": {},
   "source": [
    "Next, we can define the initial concentration of the protein in `COMP_1`:"
   ]
  },
  {
   "cell_type": "code",
   "execution_count": 7,
   "id": "e6da986e-12ea-4e78-af7a-7d5900554ea6",
   "metadata": {},
   "outputs": [
    {
     "data": {
      "text/plain": [
       "Initial(protein() ** COMP_1, protein_0)"
      ]
     },
     "execution_count": 7,
     "metadata": {},
     "output_type": "execute_result"
    }
   ],
   "source": [
    "Initial(protein()**COMP_1, protein_0)"
   ]
  },
  {
   "cell_type": "markdown",
   "id": "6487d67d-5781-4500-92c7-d6653ddcbf1d",
   "metadata": {},
   "source": [
    "Here, we'll create the rule for reversible distribution of protein between the two compartments. First, we can create a new parameter for the 1st order rate constant for transfer from `COMP_1` to `COMP_1`:"
   ]
  },
  {
   "cell_type": "code",
   "execution_count": 8,
   "id": "36be4552-39cc-4300-8dcd-5787117be88b",
   "metadata": {},
   "outputs": [
    {
     "data": {
      "text/latex": [
       "$\\displaystyle k_{12}$"
      ],
      "text/plain": [
       "Parameter('k_12', 0.01)"
      ]
     },
     "execution_count": 8,
     "metadata": {},
     "output_type": "execute_result"
    }
   ],
   "source": [
    "# 4. New rule and associated parameters for reversible distribution between the two\n",
    "# compartments:\n",
    "Parameter('k_12', 1e-2)"
   ]
  },
  {
   "cell_type": "markdown",
   "id": "caab32f1-39b1-4378-a0bd-827af7c75271",
   "metadata": {},
   "source": [
    "Second, we can create the parameter for the 1st order rate constant for the reverse transfer, `COMP_2` to `COMP_1`:"
   ]
  },
  {
   "cell_type": "code",
   "execution_count": 9,
   "id": "3fe5297b-ac73-4bd9-b5b8-0ad5aba7ca6c",
   "metadata": {},
   "outputs": [
    {
     "data": {
      "text/latex": [
       "$\\displaystyle k_{21}$"
      ],
      "text/plain": [
       "Parameter('k_21', 0.002)"
      ]
     },
     "execution_count": 9,
     "metadata": {},
     "output_type": "execute_result"
    }
   ],
   "source": [
    "Parameter('k_21', 2e-3)"
   ]
  },
  {
   "cell_type": "markdown",
   "id": "1de39f0e-4a7d-4cd2-bb60-fe9bc3dc20a9",
   "metadata": {},
   "source": [
    "Finally, we'll define the associated reversible rule for the distribution between the compartments:"
   ]
  },
  {
   "cell_type": "code",
   "execution_count": 10,
   "id": "c25c5d5d-d5dc-4314-8332-9c2102ea1c54",
   "metadata": {},
   "outputs": [
    {
     "data": {
      "text/plain": [
       "Rule('C1_to_C2', protein() ** COMP_1 | protein() ** COMP_2, k_12, k_21)"
      ]
     },
     "execution_count": 10,
     "metadata": {},
     "output_type": "execute_result"
    }
   ],
   "source": [
    "Rule('C1_to_C2', protein()**COMP_1 | protein()**COMP_2, k_12, k_21)"
   ]
  },
  {
   "cell_type": "markdown",
   "id": "8d9e20f7-a235-47ef-8f7c-0c1b3c520938",
   "metadata": {},
   "source": [
    "Then, we can have it print out some model details:"
   ]
  },
  {
   "cell_type": "code",
   "execution_count": 11,
   "id": "0ede714a-f6d0-43bc-b2a5-f1a3251b0f94",
   "metadata": {},
   "outputs": [
    {
     "name": "stdout",
     "output_type": "stream",
     "text": [
      "<Model 'compartmental' (monomers: 1, rules: 1, parameters: 3, expressions: 0, compartments: 2, energypatterns: 0) at 0x23fade15c50>\n"
     ]
    }
   ],
   "source": [
    "print(compartmental)"
   ]
  },
  {
   "cell_type": "markdown",
   "id": "a8186026-cf51-4a16-b8bc-52732d731a40",
   "metadata": {},
   "source": [
    "In short, the model code would look like:\n",
    "\n",
    "```python\n",
    "from pysb import *\n",
    "\n",
    "Model(name='compartmental')\n",
    "Compartment('COMP_1')\n",
    "Compartment('COMP_2')\n",
    "Monomer('protein')\n",
    "Parameter('protein_0', 100.)\n",
    "Initial(protein()**COMP_1, protein_0)\n",
    "Parameter('k_12', 1e-2)\n",
    "Parameter('k_21', 2e-3)\n",
    "Rule('C1_to_C2', protein()**COMP_1 | protein()**COMP_2, k_12, k_21)\n",
    "```\n",
    "\n",
    "\n",
    "#### Another compartmental model example\n",
    "\n",
    "For another, more realistic, example of a compartmental PySB model, you can explore the following model: PARM - https://github.com/NTBEL/PARM \n",
    "______"
   ]
  },
  {
   "cell_type": "markdown",
   "id": "6dba643d-9e6c-4ac1-9632-91f461cb2c4d",
   "metadata": {},
   "source": [
    "## PK/PD modeling with PySB and pysb-pkpd\n",
    "\n",
    "### What is pysb-pkpd?\n",
    "[pysb-pkpd](https://github.com/blakeaw/pysb-pkpd) is a PySB add-on that introduces the language of pharmacokinetics and pharmacodynamics to PySB models. It achieves this by encoding PK actions, PD functions, and drug dosing into specialized PySB macros, simplifying the creation of compartmental PK/PD models. Moreover, PySB provides a natural foundation for expanding these models into mechanistic PK/PD models and more complex quantitative systems pharmacology/toxicology (QSP/QST) models.\n",
    "\n",
    "### Case Study 1: Building a two-compartment model\n",
    "\n",
    "In this first case study, we will construct two different versions of a two-compartment PK model with an Emax PD function. We will build the first version exclusively using the standard PySB framework, and in the second we will use PySB with the pysb-pkpd add-on. This case study will provide a practical, side-by-side comparison, highlighting the added efficiency and pharmacological context that pysb-pkpd brings to PySB-based PK/PD model construction. "
   ]
  },
  {
   "cell_type": "markdown",
   "id": "ee4cb02a-4264-44d0-9ccb-2162e398b4d9",
   "metadata": {},
   "source": [
    "Here is a schematic of the model we will construct:\n",
    "\n",
    "![image](https://drive.google.com/uc?id=1E_pNLou2el53r14_YplCKwtcUlSJVjNd)"
   ]
  },
  {
   "cell_type": "markdown",
   "id": "d3b9fe57-828c-4c8d-9eea-c6e66efe402f",
   "metadata": {},
   "source": [
    "#### 1. Standard PySB\n",
    "\n",
    "First, we'll build this model using standard PySB objects and macros."
   ]
  },
  {
   "cell_type": "markdown",
   "id": "28c908a5-e6c4-43c2-9f82-c1fcdf2ea239",
   "metadata": {},
   "source": [
    "Initialize the new model:"
   ]
  },
  {
   "cell_type": "code",
   "execution_count": 12,
   "id": "f1a02d55-3110-475a-a178-e2ee9968b648",
   "metadata": {},
   "outputs": [
    {
     "name": "stderr",
     "output_type": "stream",
     "text": [
      "C:\\Users\\bwils\\AppData\\Local\\Temp\\ipykernel_21400\\2387899035.py:1: ModelExistsWarning: Redefining model! (You can probably ignore this if you are running code interactively)\n",
      "  Model(name='standard')\n"
     ]
    },
    {
     "data": {
      "text/plain": [
       "<Model 'standard' (monomers: 0, rules: 0, parameters: 0, expressions: 0, compartments: 0, energypatterns: 0) at 0x23fb0448810>"
      ]
     },
     "execution_count": 12,
     "metadata": {},
     "output_type": "execute_result"
    }
   ],
   "source": [
    "Model(name='standard')"
   ]
  },
  {
   "cell_type": "markdown",
   "id": "2f1ad0d2-d95f-4e0c-ae26-f9d44f02ccaf",
   "metadata": {},
   "source": [
    "Setup the two compartments, a central and peripheral one:"
   ]
  },
  {
   "cell_type": "code",
   "execution_count": 13,
   "id": "9be1de8f-687b-47f3-8983-88867f30c616",
   "metadata": {},
   "outputs": [
    {
     "data": {
      "text/latex": [
       "$\\displaystyle V_{CENTRAL}$"
      ],
      "text/plain": [
       "Parameter('V_CENTRAL', 1.0)"
      ]
     },
     "execution_count": 13,
     "metadata": {},
     "output_type": "execute_result"
    }
   ],
   "source": [
    "# Volume of the central compartment:\n",
    "Parameter('V_CENTRAL', 1.0)"
   ]
  },
  {
   "cell_type": "code",
   "execution_count": 14,
   "id": "9f20c2fa-0ab5-45ff-86ad-4af2320af435",
   "metadata": {},
   "outputs": [
    {
     "data": {
      "text/plain": [
       "Compartment(name='CENTRAL', parent=None, dimension=3, size=V_CENTRAL)"
      ]
     },
     "execution_count": 14,
     "metadata": {},
     "output_type": "execute_result"
    }
   ],
   "source": [
    "Compartment('CENTRAL', size=V_CENTRAL)"
   ]
  },
  {
   "cell_type": "code",
   "execution_count": 15,
   "id": "effa0654-2107-48cb-a944-49df0cc36545",
   "metadata": {},
   "outputs": [
    {
     "data": {
      "text/latex": [
       "$\\displaystyle V_{PERIPHERAL}$"
      ],
      "text/plain": [
       "Parameter('V_PERIPHERAL', 1.0)"
      ]
     },
     "execution_count": 15,
     "metadata": {},
     "output_type": "execute_result"
    }
   ],
   "source": [
    "# Volume of the peripheral compartment:\n",
    "Parameter('V_PERIPHERAL', 1.0)"
   ]
  },
  {
   "cell_type": "code",
   "execution_count": 16,
   "id": "ce204e25-f798-42ca-908b-c9d1668be153",
   "metadata": {},
   "outputs": [
    {
     "data": {
      "text/plain": [
       "Compartment(name='PERIPHERAL', parent=None, dimension=3, size=V_PERIPHERAL)"
      ]
     },
     "execution_count": 16,
     "metadata": {},
     "output_type": "execute_result"
    }
   ],
   "source": [
    "Compartment('PERIPHERAL', size=V_PERIPHERAL)"
   ]
  },
  {
   "cell_type": "markdown",
   "id": "72b7f795-66db-4445-bd3e-f0513d9cb8e1",
   "metadata": {},
   "source": [
    "Add the drug monomer:"
   ]
  },
  {
   "cell_type": "code",
   "execution_count": 17,
   "id": "4f483d32-4b01-4124-b53d-3081c868b1cd",
   "metadata": {},
   "outputs": [
    {
     "data": {
      "text/plain": [
       "Monomer('Drug')"
      ]
     },
     "execution_count": 17,
     "metadata": {},
     "output_type": "execute_result"
    }
   ],
   "source": [
    "Monomer('Drug')"
   ]
  },
  {
   "cell_type": "markdown",
   "id": "1d048124-68d6-4d8f-af27-887f54c9e90e",
   "metadata": {},
   "source": [
    "Initialize the drug in the central compartment to approximate an IV bolus dose:"
   ]
  },
  {
   "cell_type": "code",
   "execution_count": 18,
   "id": "1359f6ee-db77-498a-84c3-09ab754b9f0a",
   "metadata": {},
   "outputs": [
    {
     "data": {
      "text/latex": [
       "$\\displaystyle drug_{dose}$"
      ],
      "text/plain": [
       "Parameter('drug_dose', 100.0)"
      ]
     },
     "execution_count": 18,
     "metadata": {},
     "output_type": "execute_result"
    }
   ],
   "source": [
    "# The amount of drug added:\n",
    "Parameter('drug_dose', 100.) # mg"
   ]
  },
  {
   "cell_type": "code",
   "execution_count": 19,
   "id": "94baca79-2658-402b-b2b8-4c95e340bbbf",
   "metadata": {},
   "outputs": [
    {
     "data": {
      "text/latex": [
       "$\\displaystyle drug_{0}$"
      ],
      "text/plain": [
       "Expression('drug_0', drug_dose/V_CENTRAL)"
      ]
     },
     "execution_count": 19,
     "metadata": {},
     "output_type": "execute_result"
    }
   ],
   "source": [
    "# The initial concentration:\n",
    "Expression('drug_0', drug_dose / V_CENTRAL)"
   ]
  },
  {
   "cell_type": "code",
   "execution_count": 20,
   "id": "1abd7efd-107c-44f2-9b28-6adffd0b082d",
   "metadata": {},
   "outputs": [
    {
     "data": {
      "text/plain": [
       "Initial(Drug() ** CENTRAL, drug_0)"
      ]
     },
     "execution_count": 20,
     "metadata": {},
     "output_type": "execute_result"
    }
   ],
   "source": [
    "Initial(Drug()**CENTRAL, drug_0)"
   ]
  },
  {
   "cell_type": "markdown",
   "id": "99a5d178-d8b8-4f2b-8feb-7b60e7c93b80",
   "metadata": {},
   "source": [
    "Now add a rule to include reversible distribution/redistribution between the two compartments:\n",
    "\n",
    "<div class=\"alert alert-info\">\n",
    "Here, we can take advantage of an existing PySB macro, <strong>equilibrate</strong>, to encode the reversible distribution/redistribution and the associated parameters.\n",
    "</div>"
   ]
  },
  {
   "cell_type": "code",
   "execution_count": 21,
   "id": "63437f3b-e4ad-4661-8a8d-07d882421a39",
   "metadata": {},
   "outputs": [],
   "source": [
    "from pysb.macros import equilibrate"
   ]
  },
  {
   "cell_type": "code",
   "execution_count": 22,
   "id": "c9db42aa-1c11-440e-bcfd-fe1b6ab82c9b",
   "metadata": {},
   "outputs": [
    {
     "data": {
      "text/plain": [
       "<function pysb.macros.equilibrate(s1, s2, klist)>"
      ]
     },
     "execution_count": 22,
     "metadata": {},
     "output_type": "execute_result"
    }
   ],
   "source": [
    "equilibrate"
   ]
  },
  {
   "cell_type": "code",
   "execution_count": 23,
   "id": "9e472906-14d3-4ecb-bf61-b11d256a3527",
   "metadata": {},
   "outputs": [
    {
     "data": {
      "text/plain": [
       "ComponentSet([\n",
       " Rule('equilibrate_Drug_to_Drug', Drug() ** CENTRAL | Drug() ** PERIPHERAL, equilibrate_Drug_to_Drug_kf, equilibrate_Drug_to_Drug_kr),\n",
       " Parameter('equilibrate_Drug_to_Drug_kf', 0.0003),\n",
       " Parameter('equilibrate_Drug_to_Drug_kr', 3e-05),\n",
       " ])"
      ]
     },
     "execution_count": 23,
     "metadata": {},
     "output_type": "execute_result"
    }
   ],
   "source": [
    "# Distribution/redistribution using the equilibrate macro:\n",
    "equilibrate(Drug()**CENTRAL, Drug()**PERIPHERAL, [3e-4, 3e-5]) "
   ]
  },
  {
   "cell_type": "markdown",
   "id": "7687cdb1-b62d-425a-8035-581fb511ec25",
   "metadata": {},
   "source": [
    "And let's add removal of the drug from the central compartment by linear elimination:\n",
    "\n",
    "<div class=\"alert alert-info\">\n",
    "Here, we can also take advantage of an existing PySB macro, <strong>degrade</strong>, to encode the linear elimination of the drug.\n",
    "</div>"
   ]
  },
  {
   "cell_type": "code",
   "execution_count": 24,
   "id": "f9a389af-c334-460a-869e-89146af05cd4",
   "metadata": {},
   "outputs": [],
   "source": [
    "from pysb.macros import degrade"
   ]
  },
  {
   "cell_type": "code",
   "execution_count": 25,
   "id": "5dbb32e0-594d-4db1-b84e-5a14f5c0ba6d",
   "metadata": {},
   "outputs": [
    {
     "data": {
      "text/plain": [
       "<function pysb.macros.degrade(species, kdeg)>"
      ]
     },
     "execution_count": 25,
     "metadata": {},
     "output_type": "execute_result"
    }
   ],
   "source": [
    "degrade"
   ]
  },
  {
   "cell_type": "code",
   "execution_count": 26,
   "id": "d94c1a63-5ba0-49cc-bfb9-e63e6d2cc4ae",
   "metadata": {},
   "outputs": [
    {
     "data": {
      "text/plain": [
       "ComponentSet([\n",
       " Rule('degrade_Drug', Drug() ** CENTRAL >> None, degrade_Drug_k),\n",
       " Parameter('degrade_Drug_k', 1e-05),\n",
       " ])"
      ]
     },
     "execution_count": 26,
     "metadata": {},
     "output_type": "execute_result"
    }
   ],
   "source": [
    "degrade(Drug()**CENTRAL, 1e-5)"
   ]
  },
  {
   "cell_type": "markdown",
   "id": "c633e0bf-d360-432e-be20-47105897e051",
   "metadata": {},
   "source": [
    "Now, let's encode the Emax function for the concentration-response relationship:"
   ]
  },
  {
   "cell_type": "code",
   "execution_count": 27,
   "id": "0be6b830-32ae-4111-841a-4c613b60faf5",
   "metadata": {},
   "outputs": [
    {
     "data": {
      "text/latex": [
       "$\\displaystyle Emax$"
      ],
      "text/plain": [
       "Parameter('Emax', 1.0)"
      ]
     },
     "execution_count": 27,
     "metadata": {},
     "output_type": "execute_result"
    }
   ],
   "source": [
    "# The Emax parameter:\n",
    "Parameter('Emax', 1.0)"
   ]
  },
  {
   "cell_type": "code",
   "execution_count": 28,
   "id": "fb76b3f2-bb79-4acd-83ad-49e699bc887d",
   "metadata": {},
   "outputs": [
    {
     "data": {
      "text/latex": [
       "$\\displaystyle EC_{50}$"
      ],
      "text/plain": [
       "Parameter('EC50', 50.0)"
      ]
     },
     "execution_count": 28,
     "metadata": {},
     "output_type": "execute_result"
    }
   ],
   "source": [
    "# The EC50:\n",
    "Parameter('EC50', 50.0)"
   ]
  },
  {
   "cell_type": "code",
   "execution_count": 29,
   "id": "82d0848f-ea90-447e-9c94-32df60fb6ab9",
   "metadata": {},
   "outputs": [
    {
     "data": {
      "text/latex": [
       "$\\displaystyle drug_{peripheral}$"
      ],
      "text/plain": [
       "Observable('drug_peripheral', Drug() ** PERIPHERAL)"
      ]
     },
     "execution_count": 29,
     "metadata": {},
     "output_type": "execute_result"
    }
   ],
   "source": [
    "# Drug in the peripheral compartment:\n",
    "Observable('drug_peripheral', Drug()**PERIPHERAL)"
   ]
  },
  {
   "cell_type": "code",
   "execution_count": 30,
   "id": "9a0517f4-98d3-4dd5-bc29-ecf6f31a6092",
   "metadata": {},
   "outputs": [
    {
     "data": {
      "text/latex": [
       "$\\displaystyle Emax_{peripheral}$"
      ],
      "text/plain": [
       "Expression('Emax_peripheral', drug_peripheral*Emax/(drug_peripheral + EC50))"
      ]
     },
     "execution_count": 30,
     "metadata": {},
     "output_type": "execute_result"
    }
   ],
   "source": [
    "Expression('Emax_peripheral', Emax * drug_peripheral / (drug_peripheral + EC50) )"
   ]
  },
  {
   "cell_type": "code",
   "execution_count": 31,
   "id": "44c79f44-bfed-49e7-a564-2f3c13da3ec2",
   "metadata": {},
   "outputs": [
    {
     "name": "stdout",
     "output_type": "stream",
     "text": [
      "<Model 'standard' (monomers: 1, rules: 2, parameters: 8, expressions: 2, compartments: 2, energypatterns: 0) at 0x23fb0448810>\n"
     ]
    }
   ],
   "source": [
    "print(standard)"
   ]
  },
  {
   "cell_type": "markdown",
   "id": "550419b9-50b4-4d51-ab6e-c187924f128d",
   "metadata": {},
   "source": [
    "In short, the model code for this version looks like:\n",
    "\n",
    "```python\n",
    "from pysb import *\n",
    "from pysb.macros import equilibrate, degrade\n",
    "\n",
    "# Initialize new model:\n",
    "Model(name='standard')\n",
    "# Setup the two compartments:\n",
    "Parameter('V_CENTRAL', 1.0)\n",
    "Compartment('CENTRAL', size=V_CENTRAL)\n",
    "Parameter('V_PERIPHERAL', 1.0)\n",
    "Compartment('PERIPHERAL', size=V_PERIPHERAL)\n",
    "# New drug monomer and bolus dose:\n",
    "Monomer('Drug')\n",
    "Parameter('drug_dose', 100.)\n",
    "Expression('drug_0', drug_dose / V_CENTRAL)\n",
    "Initial(Drug()**CENTRAL, drug_0)\n",
    "# Distribution/redistribution:\n",
    "equilibrate(Drug()**CENTRAL, Drug()**PERIPHERAL, [3e-4, 3e-5]) \n",
    "# Linear elimination:\n",
    "degrade(Drug()**CENTRAL, 1e-5)\n",
    "# Emax function for Drug in the peripheral compartment:\n",
    "Parameter('Emax', 1.0)\n",
    "Parameter('EC50', 50.0)\n",
    "Expression('Emax_peripheral', Emax * drug_peripheral / (drug_peripheral + EC50) )\n",
    "```"
   ]
  },
  {
   "cell_type": "markdown",
   "id": "18748094-1fbb-42ec-877e-9511b6be772b",
   "metadata": {},
   "source": [
    "#### 2. PySB plus pysb-pkpd\n",
    "\n",
    "Next, we'll build the same model but using pysb-pkpd."
   ]
  },
  {
   "cell_type": "markdown",
   "id": "a5ed1e8b-2605-4577-b419-505248144050",
   "metadata": {},
   "source": [
    "Here is a the schematic again for reference:\n",
    "\n",
    "![image](https://drive.google.com/uc?id=1E_pNLou2el53r14_YplCKwtcUlSJVjNd)"
   ]
  },
  {
   "cell_type": "markdown",
   "id": "c2d5e6a8-6c91-4497-9ec8-5576ad3b28e3",
   "metadata": {},
   "source": [
    "Now, let's get started by importing `pysb-pkpd`:"
   ]
  },
  {
   "cell_type": "code",
   "execution_count": 32,
   "id": "8f16f0fd-e179-4500-b496-7a9d7e3f91ad",
   "metadata": {},
   "outputs": [],
   "source": [
    "import pysb.pkpd as pkpd"
   ]
  },
  {
   "cell_type": "markdown",
   "id": "10da3818-cf01-45f0-af3b-37ad1acdb64c",
   "metadata": {},
   "source": [
    "Initialize the new model:"
   ]
  },
  {
   "cell_type": "code",
   "execution_count": 33,
   "id": "ebb7449e-667d-4abc-8357-9a03639e49f5",
   "metadata": {},
   "outputs": [
    {
     "data": {
      "text/plain": [
       "<Model 'pysb_pkpd' (monomers: 0, rules: 0, parameters: 0, expressions: 0, compartments: 0, energypatterns: 0) at 0x23fad0dfc10>"
      ]
     },
     "execution_count": 33,
     "metadata": {},
     "output_type": "execute_result"
    }
   ],
   "source": [
    "Model(name='pysb_pkpd')"
   ]
  },
  {
   "cell_type": "code",
   "execution_count": 34,
   "id": "2e964754-5a26-48f2-a854-8d8e809079cb",
   "metadata": {},
   "outputs": [
    {
     "data": {
      "text/plain": [
       "<Model 'pysb_pkpd' (monomers: 0, rules: 0, parameters: 0, expressions: 0, compartments: 0, energypatterns: 0) at 0x23fad0dfc10>"
      ]
     },
     "execution_count": 34,
     "metadata": {},
     "output_type": "execute_result"
    }
   ],
   "source": [
    "pysb_pkpd"
   ]
  },
  {
   "cell_type": "markdown",
   "id": "619ba3b1-a108-4bd9-a9a4-e5c800965681",
   "metadata": {},
   "source": [
    "Setup the two compartments, a central and peripheral one:\n",
    "\n",
    "<div class=\"alert alert-info\">\n",
    "pysb-pkpd has a macro, <strong>two_compartments</strong>, which creates the necessary compartments for a two-compartment model.\n",
    "</div>"
   ]
  },
  {
   "cell_type": "code",
   "execution_count": 35,
   "id": "3fea5e77-7185-4197-8a16-150191943992",
   "metadata": {},
   "outputs": [
    {
     "data": {
      "text/plain": [
       "<function pysb.pkpd.macros.two_compartments(c1_name='CENTRAL', c1_size=1.0, c2_name='PERIPHERAL', c2_size=1.0)>"
      ]
     },
     "execution_count": 35,
     "metadata": {},
     "output_type": "execute_result"
    }
   ],
   "source": [
    "pkpd.two_compartments"
   ]
  },
  {
   "cell_type": "markdown",
   "id": "180f6ac1-c34d-4000-8cc6-fb874d0100d6",
   "metadata": {},
   "source": [
    "We can use it to add the compartments to new model:"
   ]
  },
  {
   "cell_type": "code",
   "execution_count": 36,
   "id": "7425bedb-035c-4b75-a208-e79339312996",
   "metadata": {},
   "outputs": [
    {
     "name": "stderr",
     "output_type": "stream",
     "text": [
      "C:\\Users\\bwils\\miniconda3\\envs\\pysb-pkpd-dev\\Lib\\site-packages\\pysb\\pkpd\\macros.py:162: SymbolExistsWarning: 'V_CENTRAL' already defined\n",
      "  C1_size = Parameter(\"V_{0}\".format(c1_name), c1_size)\n",
      "C:\\Users\\bwils\\miniconda3\\envs\\pysb-pkpd-dev\\Lib\\site-packages\\pysb\\pkpd\\macros.py:166: SymbolExistsWarning: 'V_PERIPHERAL' already defined\n",
      "  C2_size = Parameter(\"V_{0}\".format(c2_name), c2_size)\n",
      "C:\\Users\\bwils\\miniconda3\\envs\\pysb-pkpd-dev\\Lib\\site-packages\\pysb\\pkpd\\macros.py:168: SymbolExistsWarning: 'CENTRAL' already defined\n",
      "  C1 = Compartment(c1_name, size=C1_size)\n",
      "C:\\Users\\bwils\\miniconda3\\envs\\pysb-pkpd-dev\\Lib\\site-packages\\pysb\\pkpd\\macros.py:169: SymbolExistsWarning: 'PERIPHERAL' already defined\n",
      "  C2 = Compartment(c2_name, size=C2_size)\n"
     ]
    },
    {
     "data": {
      "text/plain": [
       "ComponentSet([\n",
       " Compartment(name='CENTRAL', parent=None, dimension=3, size=V_CENTRAL),\n",
       " Compartment(name='PERIPHERAL', parent=None, dimension=3, size=V_PERIPHERAL),\n",
       " Parameter('V_CENTRAL', 1.0),\n",
       " Parameter('V_PERIPHERAL', 1.0),\n",
       " ])"
      ]
     },
     "execution_count": 36,
     "metadata": {},
     "output_type": "execute_result"
    }
   ],
   "source": [
    "pkpd.two_compartments()"
   ]
  },
  {
   "cell_type": "markdown",
   "id": "34f04985-6af5-407c-8f08-c87e2e1f175b",
   "metadata": {},
   "source": [
    "Add the drug monomer:\n",
    "\n",
    "<div class=\"alert alert-info\">\n",
    "pysb-pkpd also includes a macro, <strong>drug_monomer</strong> for adding a simple \"Drug\" monomer to the model that doesn't have any binding sites or states. \n",
    "</div>\n"
   ]
  },
  {
   "cell_type": "code",
   "execution_count": 37,
   "id": "908582f3-b09d-4775-9e70-ce76caf46f35",
   "metadata": {},
   "outputs": [
    {
     "data": {
      "text/plain": [
       "<function pysb.pkpd.macros.drug_monomer(name='Drug')>"
      ]
     },
     "execution_count": 37,
     "metadata": {},
     "output_type": "execute_result"
    }
   ],
   "source": [
    "pkpd.drug_monomer"
   ]
  },
  {
   "cell_type": "code",
   "execution_count": 38,
   "id": "db6c6a23-442d-4de2-b157-e673ba130e51",
   "metadata": {},
   "outputs": [
    {
     "name": "stderr",
     "output_type": "stream",
     "text": [
      "C:\\Users\\bwils\\miniconda3\\envs\\pysb-pkpd-dev\\Lib\\site-packages\\pysb\\pkpd\\macros.py:63: SymbolExistsWarning: 'Drug' already defined\n",
      "  monomer = Monomer(name)\n"
     ]
    },
    {
     "data": {
      "text/plain": [
       "ComponentSet([\n",
       " Monomer('Drug'),\n",
       " ])"
      ]
     },
     "execution_count": 38,
     "metadata": {},
     "output_type": "execute_result"
    }
   ],
   "source": [
    "pkpd.drug_monomer()"
   ]
  },
  {
   "cell_type": "markdown",
   "id": "b817b55c-55ac-4f0c-b820-43dcf9001755",
   "metadata": {},
   "source": [
    "Initialize the drug in the central compartment to approximate an IV bolus dose:\n",
    "\n",
    "<div class=\"alert alert-info\">\n",
    "pysb-pkpd includes macros for adding a dose of a drug to the model. Currently, version 0.2.1 includes three such macros: <strong>dose_bolus</strong>, <strong>dose_infusion</strong>, and <strong>dose_absorbed</strong> for modeling an instantaneous I.V. bolus, continuous I.V. infusion, and oral dosing, respectively. In this case, we want the <strong>dose_bolus</strong> macro.\n",
    "</div>"
   ]
  },
  {
   "cell_type": "code",
   "execution_count": 39,
   "id": "ef1d5d5d-d0d8-4d79-a1ce-101172f9e024",
   "metadata": {},
   "outputs": [
    {
     "data": {
      "text/plain": [
       "<function pysb.pkpd.macros.dose_bolus(species, compartment, dose)>"
      ]
     },
     "execution_count": 39,
     "metadata": {},
     "output_type": "execute_result"
    }
   ],
   "source": [
    "pkpd.dose_bolus"
   ]
  },
  {
   "cell_type": "code",
   "execution_count": 40,
   "id": "d33b519a-1582-41b1-a77e-e1ccd471cd74",
   "metadata": {},
   "outputs": [
    {
     "data": {
      "text/plain": [
       "ComponentSet([\n",
       " Parameter('dose_Drug_CENTRAL', 100.0),\n",
       " Expression('expr_Drug_CENTRAL_0', dose_Drug_CENTRAL/V_CENTRAL),\n",
       " ])"
      ]
     },
     "execution_count": 40,
     "metadata": {},
     "output_type": "execute_result"
    }
   ],
   "source": [
    "pkpd.dose_bolus(Drug, CENTRAL, 100.)"
   ]
  },
  {
   "cell_type": "markdown",
   "id": "a7801d5d-1dd6-489d-b79a-f330efdd334e",
   "metadata": {},
   "source": [
    "Now add a rule to include reversible distribution/redistribution between the two compartments:\n",
    "\n",
    "<div class=\"alert alert-info\">\n",
    "pysb-pkpd includes several macros that encode PK actions/processes. The <strong>distribute</strong> macro encodes reversible distribution/redistribution between two compartments.\n",
    "</div>"
   ]
  },
  {
   "cell_type": "code",
   "execution_count": 41,
   "id": "e569ae89-2e20-4e20-9dd9-d1514b80ca30",
   "metadata": {},
   "outputs": [
    {
     "data": {
      "text/plain": [
       "<function pysb.pkpd.macros.distribute(species, c1, c2, klist)>"
      ]
     },
     "execution_count": 41,
     "metadata": {},
     "output_type": "execute_result"
    }
   ],
   "source": [
    "pkpd.distribute"
   ]
  },
  {
   "cell_type": "code",
   "execution_count": 42,
   "id": "ec739b49-ba82-4da2-9c55-b3d0e7c10611",
   "metadata": {
    "scrolled": true
   },
   "outputs": [
    {
     "data": {
      "text/plain": [
       "ComponentSet([\n",
       " Rule('distribute_Drug_CENTRAL_to_PERIPHERAL', Drug() ** CENTRAL | Drug() ** PERIPHERAL, distribute_Drug_CENTRAL_to_PERIPHERAL_kf, distribute_Drug_CENTRAL_to_PERIPHERAL_kr),\n",
       " Parameter('distribute_Drug_CENTRAL_to_PERIPHERAL_kf', 0.0003),\n",
       " Parameter('distribute_Drug_CENTRAL_to_PERIPHERAL_kr', 3e-05),\n",
       " ])"
      ]
     },
     "execution_count": 42,
     "metadata": {},
     "output_type": "execute_result"
    }
   ],
   "source": [
    "# Distribution/redistribution using the distribute macro:\n",
    "pkpd.distribute(Drug, CENTRAL, PERIPHERAL, [3e-4, 3e-5]) "
   ]
  },
  {
   "cell_type": "markdown",
   "id": "6228795c-4e99-4b38-85f2-631ab7c04e27",
   "metadata": {},
   "source": [
    "And let's add removal of the drug from the central compartment by linear elimination:\n",
    "\n",
    "<div class=\"alert alert-info\">\n",
    "pysb-pkpd includes PK macros for removing drug, including <strong>clearance</strong>, <strong>eliminate</strong>, and <strong>eliminate_mm</strong> macros for linear clearance (with a clearance rate CL and first-order rate constant given by CL/Volume), linear elimination (with first-order rate constant), and non-linear Michaelis-Menten elimination (with Vmax and Km parameters), respectively. In this case, we can use the <strong>eliminate</strong> macro."
   ]
  },
  {
   "cell_type": "code",
   "execution_count": 43,
   "id": "fb5d1eb5-bc89-48a1-a670-408d112ec511",
   "metadata": {},
   "outputs": [
    {
     "data": {
      "text/plain": [
       "<function pysb.pkpd.macros.eliminate(species, compartment, kel)>"
      ]
     },
     "execution_count": 43,
     "metadata": {},
     "output_type": "execute_result"
    }
   ],
   "source": [
    "pkpd.eliminate"
   ]
  },
  {
   "cell_type": "code",
   "execution_count": 44,
   "id": "7931d944-ec4c-4c61-9f02-a7c980f9202d",
   "metadata": {},
   "outputs": [
    {
     "data": {
      "text/plain": [
       "ComponentSet([\n",
       " Rule('eliminate_Drug_CENTRAL', Drug() ** CENTRAL >> None, eliminate_Drug_CENTRAL_k),\n",
       " Parameter('eliminate_Drug_CENTRAL_k', 1e-05),\n",
       " ])"
      ]
     },
     "execution_count": 44,
     "metadata": {},
     "output_type": "execute_result"
    }
   ],
   "source": [
    "pkpd.eliminate(Drug, CENTRAL, 1e-5)"
   ]
  },
  {
   "cell_type": "markdown",
   "id": "4135ab57-644b-4a89-8454-4a45ba699016",
   "metadata": {},
   "source": [
    "Now, let's encode the Emax function for the concentration-response relationship:\n",
    "\n",
    "<div class=\"alert alert-info\">\n",
    "pysb-pkpd also includes macros for PD functions. Currently, version 0.2.1 includes three such macros: <strong>emax</strong>, <strong>sigmoidal_emax</strong>, and <strong>linear_effect</strong> for modeling an Emax, Sigmoidal Emax, and linear effect response functions, respectively. In this case, we want the <strong>emax</strong> macro.\n",
    "</div>"
   ]
  },
  {
   "cell_type": "code",
   "execution_count": 45,
   "id": "6a1967ca-c94c-4479-ac1e-958b494f78ac",
   "metadata": {},
   "outputs": [
    {
     "data": {
      "text/plain": [
       "<function pysb.pkpd.macros.emax(species, compartment, emax, ec50)>"
      ]
     },
     "execution_count": 45,
     "metadata": {},
     "output_type": "execute_result"
    }
   ],
   "source": [
    "pkpd.emax"
   ]
  },
  {
   "cell_type": "code",
   "execution_count": 46,
   "id": "ac635507-ed20-448f-8486-c16a1b84dbcb",
   "metadata": {},
   "outputs": [
    {
     "data": {
      "text/plain": [
       "ComponentSet([\n",
       " Observable('_obs_emax_expr_Drug_PERIPHERAL', Drug() ** PERIPHERAL),\n",
       " Expression('Emax_expr_Drug_PERIPHERAL', _obs_emax_expr_Drug_PERIPHERAL*Emax_Drug_PERIPHERAL/(_obs_emax_expr_Drug_PERIPHERAL + EC50_Drug_PERIPHERAL)),\n",
       " Parameter('Emax_Drug_PERIPHERAL', 1.0),\n",
       " Parameter('EC50_Drug_PERIPHERAL', 50.0),\n",
       " ])"
      ]
     },
     "execution_count": 46,
     "metadata": {},
     "output_type": "execute_result"
    }
   ],
   "source": [
    "pkpd.emax(Drug, PERIPHERAL, 1.0, 50.0)"
   ]
  },
  {
   "cell_type": "code",
   "execution_count": 47,
   "id": "61cc3d14-9908-49e6-81b4-edca191f3085",
   "metadata": {},
   "outputs": [
    {
     "name": "stdout",
     "output_type": "stream",
     "text": [
      "<Model 'pysb_pkpd' (monomers: 1, rules: 2, parameters: 8, expressions: 2, compartments: 2, energypatterns: 0) at 0x23fad0dfc10>\n"
     ]
    }
   ],
   "source": [
    "print(pysb_pkpd)"
   ]
  },
  {
   "cell_type": "markdown",
   "id": "2bc64e95-7e37-4015-b1d4-98b9c421423d",
   "metadata": {},
   "source": [
    "In short, this version of the model looks like:\n",
    "```python\n",
    "from pysb import *\n",
    "import pysb.pkpd as pkpd\n",
    "\n",
    "# Initialize new model:\n",
    "Model()\n",
    "# Setup the two compartments:\n",
    "pkpd.two_compartments()\n",
    "# New drug monomer and bolus dose:\n",
    "pkpd.drug_monomer()\n",
    "pkpd.dose_bolus(Drug, CENTRAL, 100.)\n",
    "# Distribution/redistribution:\n",
    "pkpd.distribute(Drug, CENTRAL, PERIPHERAL, [3e-4, 3e-5]))\n",
    "# Linear elimination:\n",
    "pkpd.eliminate(Drug, CENTRAL, 1e-5)\n",
    "# Emax function for Drug in the peripheral compartment:\n",
    "pkpd.emax(Drug, PERIPHERAL, 1.0, 50.0)\n",
    "\n",
    "```"
   ]
  },
  {
   "cell_type": "markdown",
   "id": "21904c71-3d63-4ca9-b9c7-314665904030",
   "metadata": {},
   "source": [
    "#### Comparison\n",
    "\n",
    "We can compare the printouts for each model to confirm that they include the same number of components:"
   ]
  },
  {
   "cell_type": "code",
   "execution_count": 48,
   "id": "e9143d62-4049-48c5-8037-4d117720ac21",
   "metadata": {},
   "outputs": [
    {
     "name": "stdout",
     "output_type": "stream",
     "text": [
      "<Model 'standard' (monomers: 1, rules: 2, parameters: 8, expressions: 2, compartments: 2, energypatterns: 0) at 0x23fb0448810>\n",
      "<Model 'pysb_pkpd' (monomers: 1, rules: 2, parameters: 8, expressions: 2, compartments: 2, energypatterns: 0) at 0x23fad0dfc10>\n"
     ]
    }
   ],
   "source": [
    "print(standard)\n",
    "print(pysb_pkpd)"
   ]
  },
  {
   "cell_type": "markdown",
   "id": "a67e2023-cd97-4aaf-b79a-8257385ee836",
   "metadata": {},
   "source": [
    "The we can compare the condensed model codes side-by-side:\n",
    "\n",
    "<table>\n",
    "<tr>\n",
    "<th>Standard PySB</th>\n",
    "<th>PySB plus pysb-pkpd</th>\n",
    "</tr>\n",
    "<tr>\n",
    "\n",
    "<td>\n",
    "    \n",
    "```python\n",
    "from pysb import *\n",
    "from pysb.macros import equilibrate, degrade\n",
    "\n",
    "# Initialize new model:\n",
    "Model(name='standard')\n",
    "# Setup the two compartments:\n",
    "Parameter('V_CENTRAL', 1.0)\n",
    "Compartment('CENTRAL', size=V_CENTRAL)\n",
    "Parameter('V_PERIPHERAL', 1.0)\n",
    "Compartment('PERIPHERAL', size=V_PERIPHERAL)\n",
    "# New drug monomer and bolus dose:\n",
    "Monomer('Drug')\n",
    "Parameter('drug_dose', 100.)\n",
    "Expression('drug_0', drug_dose / V_CENTRAL)\n",
    "Initial(Drug()**CENTRAL, drug_0)\n",
    "# Distribution/redistribution:\n",
    "equilibrate(Drug()**CENTRAL, Drug()**PERIPHERAL, [1e-3, 1e-2]) \n",
    "# Linear elimination:\n",
    "degrade(Drug()**CENTRAL, 1e-4)\n",
    "# Emax function for Drug in the peripheral compartment:\n",
    "Parameter('Emax', 1.0)\n",
    "Parameter('EC50', 100.0)\n",
    "Expression('Emax_peripheral', Emax * drug_peripheral / (drug_peripheral + EC50) )\n",
    "```\n",
    "\n",
    "</td>\n",
    "\n",
    "<td>\n",
    "\n",
    "```python\n",
    "from pysb import *\n",
    "import pysb.pkpd as pkpd\n",
    "\n",
    "# Initialize new model:\n",
    "Model(name='pysb_pkpd')\n",
    "# Setup the two compartments:\n",
    "pkpd.two_compartments()\n",
    "# New drug monomer and bolus dose:\n",
    "pkpd.drug_monomer()\n",
    "pkpd.dose_bolus(Drug, CENTRAL, 100.)\n",
    "# Distribution/redistribution:\n",
    "pkpd.distribute(Drug, CENTRAL, PERIPHERAL, [1e-3, 1e-2]))\n",
    "# Linear elimination:\n",
    "pkpd.eliminate(Drug, CENTRAL, 1e-4)\n",
    "# Emax function for Drug in the peripheral compartment:\n",
    "pkpd.emax(Drug, PERIPHERAL, 1.0, 100.0)\n",
    "\n",
    "```\n",
    "\n",
    "</td>"
   ]
  },
  {
   "cell_type": "markdown",
   "id": "72aeeb06-522e-46a0-bb14-b2848177ebb3",
   "metadata": {},
   "source": [
    "Although standard PySB allows us to build compartmental PK/PD models, pysb-pkpd streamlines the process while adding additional pharmacological context to the model definition. "
   ]
  },
  {
   "cell_type": "markdown",
   "id": "d7ce8551-92cc-4b93-ad37-8866b9a8ceb6",
   "metadata": {},
   "source": [
    "<div class=\"alert alert-info\">\n",
    "pysb-pkpd also includes a few pre-constructed PK and PK/PD models. For example, a two-compartment model that is more or less equivalent to the one we built above is available for import from the <strong>models</strong> sub-package.\n",
    "</div>"
   ]
  },
  {
   "cell_type": "code",
   "execution_count": 49,
   "id": "90f46c45-f643-4c82-8f37-8852d8b76ae6",
   "metadata": {},
   "outputs": [
    {
     "name": "stdout",
     "output_type": "stream",
     "text": [
      "<Model 'pysb.pkpd.models.two_compartment_emax' (monomers: 1, rules: 2, parameters: 8, expressions: 3, compartments: 2, energypatterns: 0) at 0x23fb0335b90>\n"
     ]
    }
   ],
   "source": [
    "from pysb.pkpd.models import twocomp_emax\n",
    "print(twocomp_emax)"
   ]
  },
  {
   "cell_type": "markdown",
   "id": "56844640-da90-4276-ab1f-117a3a76d5f2",
   "metadata": {},
   "source": [
    "This model has one additional expression than the model we contsructed above because it uses the `clearance` macro instead of the `eliminate` macro to encode the removal of Drug from the central compartment. The additional expression from the `clearance` macro is to get the first-order rate constant from the clearance rate divided by the central compartment volume: $k = CL / V_{CENTRAL}$. Otherwise, it is functionally equivalent to the one we constructed. \n",
    "\n"
   ]
  },
  {
   "cell_type": "markdown",
   "id": "511ed062-1978-437d-bff7-50d32b223943",
   "metadata": {},
   "source": [
    "#### Simulate the models\n",
    "\n",
    "Next, we can simulate the two models and compare their PD response function values. \n",
    "\n",
    "Let's do some additional imports:"
   ]
  },
  {
   "cell_type": "code",
   "execution_count": 50,
   "id": "35ab1102-4770-49cd-add0-b838d1b1a07b",
   "metadata": {},
   "outputs": [],
   "source": [
    "# We'll use this simulator from PySB to run the model.\n",
    "from pysb.simulator import ScipyOdeSimulator"
   ]
  },
  {
   "cell_type": "markdown",
   "id": "611920e5-9cbb-4dc1-bb08-fa99d8df3179",
   "metadata": {},
   "source": [
    "Also NumPy and Matplot's PyPlot libraries:"
   ]
  },
  {
   "cell_type": "code",
   "execution_count": 51,
   "id": "b7074ffe-ec95-41b4-9105-c3978b5f17dd",
   "metadata": {},
   "outputs": [],
   "source": [
    "import numpy as np\n",
    "import matplotlib.pyplot as plt"
   ]
  },
  {
   "cell_type": "markdown",
   "id": "84b98301-21b2-4b6c-aeec-031f0440e314",
   "metadata": {},
   "source": [
    "Now we'll create simulators for each model:\n",
    "\n",
    "  1. Standard PySB version:"
   ]
  },
  {
   "cell_type": "code",
   "execution_count": 52,
   "id": "9de126ee-8d8d-4bbb-99dd-a38b71f9db09",
   "metadata": {},
   "outputs": [],
   "source": [
    "sim_standard = ScipyOdeSimulator(standard)"
   ]
  },
  {
   "cell_type": "markdown",
   "id": "d4af15a0-a53a-448e-ab1b-36b5bc0495e6",
   "metadata": {},
   "source": [
    "  2. PySB + pysb-pkpd version:"
   ]
  },
  {
   "cell_type": "code",
   "execution_count": 53,
   "id": "7f6675e4-4b55-402a-983f-2fdcbfb68c6e",
   "metadata": {},
   "outputs": [],
   "source": [
    "sim_pkpd = ScipyOdeSimulator(pysb_pkpd)"
   ]
  },
  {
   "cell_type": "markdown",
   "id": "eca03a20-723a-43b8-ac8b-9a5dcaae12a2",
   "metadata": {},
   "source": [
    "Now, let's make a vector with the time course we want to simulate:"
   ]
  },
  {
   "cell_type": "code",
   "execution_count": 54,
   "id": "e90c1cd9-0b52-4cac-8453-11f18bba805d",
   "metadata": {},
   "outputs": [
    {
     "data": {
      "text/plain": [
       "array([     0,     10,     20, ..., 345570, 345580, 345590])"
      ]
     },
     "execution_count": 54,
     "metadata": {},
     "output_type": "execute_result"
    }
   ],
   "source": [
    "# Note 86,400 s/day\n",
    "# 4 days total with time intervals of 10 seconds:\n",
    "tspan = np.arange(0, 86400 * 4, 10)\n",
    "tspan"
   ]
  },
  {
   "cell_type": "markdown",
   "id": "acfeaf76-4317-4112-bb1f-123891d39397",
   "metadata": {},
   "source": [
    "And, next, we can run the simulations and extract the outputs:\n",
    "\n",
    "  1. Standard PySB version:"
   ]
  },
  {
   "cell_type": "code",
   "execution_count": 55,
   "id": "23a016a3-0676-443d-9651-2b0c65d9d41a",
   "metadata": {},
   "outputs": [],
   "source": [
    "out_standard = sim_standard.run(tspan=tspan).all"
   ]
  },
  {
   "cell_type": "markdown",
   "id": "9ab5d898-7bdb-43aa-a8b7-7814d18a7f19",
   "metadata": {},
   "source": [
    "  2. PySB + pysb-pkpd version:"
   ]
  },
  {
   "cell_type": "code",
   "execution_count": 56,
   "id": "bd9977ba-05e7-4438-92d7-ad68d4c40194",
   "metadata": {},
   "outputs": [],
   "source": [
    "out_pkpd = sim_pkpd.run(tspan=tspan).all"
   ]
  },
  {
   "cell_type": "markdown",
   "id": "2793adbf-139a-44d5-86df-609f1c7099f1",
   "metadata": {},
   "source": [
    "We can plot the outputs for the Emax function of each model:"
   ]
  },
  {
   "cell_type": "code",
   "execution_count": 57,
   "id": "27b7e37f-a418-4cf1-93c7-507e65ee28ed",
   "metadata": {},
   "outputs": [
    {
     "data": {
      "text/plain": [
       "(0.0, 1.1)"
      ]
     },
     "execution_count": 57,
     "metadata": {},
     "output_type": "execute_result"
    },
    {
     "data": {
      "image/png": "[encoded data removed]",
      "text/plain": [
       "<Figure size 640x480 with 1 Axes>"
      ]
     },
     "metadata": {},
     "output_type": "display_data"
    }
   ],
   "source": [
    "tspan_day = tspan / 86400\n",
    "plt.hlines(1.0, 0, 4, linestyle=':', color='k')\n",
    "plt.text(1, 1.025, \"$E_{max}=1$\")\n",
    "plt.plot(tspan_day, out_standard['Emax_peripheral'], label='standard')\n",
    "plt.plot(tspan_day, out_pkpd['Emax_expr_Drug_PERIPHERAL'], label='pysb_pkpd', linestyle='--')\n",
    "plt.xlabel(\"Time (days)\")\n",
    "plt.ylabel(\"Effect\")\n",
    "plt.legend(loc=0)\n",
    "plt.ylim((0, 1.1))"
   ]
  },
  {
   "cell_type": "markdown",
   "id": "9e514210-3e6b-4425-b3d2-281c0fc3e697",
   "metadata": {},
   "source": [
    "We can see that the two match, further verifying that the two models are equivalent."
   ]
  },
  {
   "cell_type": "markdown",
   "id": "13bdd059-7167-4f9b-8d60-60e53a5bbab4",
   "metadata": {},
   "source": [
    "------"
   ]
  },
  {
   "cell_type": "markdown",
   "id": "0c984dae-b267-4ec1-b35d-3766367dce93",
   "metadata": {},
   "source": [
    "### Case Study 2: Pembrolizumab semi-mechanistic PKRO model\n",
    "\n"
   ]
  },
  {
   "cell_type": "markdown",
   "id": "47cc426a-a073-4aec-9ce1-e1d26e39a540",
   "metadata": {},
   "source": [
    "This case study is adapted from the corresponding _Mechanistic PK/PD Example_ available at https://www.appliedbiomath.com/services/mechanistic-pkpd: _Inferring target occupancy from fitting nonlinear-PK data with mechanistic PKRO model for Pembrolizumab_.\n",
    "\n",
    "In this adaptation, we will construct and simulate a PySB version of the semi-mechanistic pharmacokinetic and receptor occupancy (PKRO) model for the anti-PD-1 antibody drug Pembrolizumab (Pembro) they describe in their attached case study file. This model enables predictions of receptor occupancy under varying conditions. \n",
    "\n",
    "However, it's important to note that fitting the model to PK data (i.e., model calibration) is beyond the scope of this post and _will not_ be covered here. Instead, our focus will be on encoding the model and simulating it using a nominal set of parameters."
   ]
  },
  {
   "cell_type": "markdown",
   "id": "2f075797-a2d5-4813-a6d4-df7b5b3d235a",
   "metadata": {},
   "source": [
    "I've recreated the model schematic from the case study for reference:\n",
    "\n",
    "![image](https://drive.google.com/uc?id=1Hc2a2IM_Sm1BaISVEqqHI5iiYgBidEWm)\n",
    "\n",
    "**Some Notes:** The circles representing the different cell types are illustrative and do not represent separate compartments; the associated surface proteins are assumed to be distributed uniformly throughout the compartment (well-mixed approximation). All of the free cell surface proteins undergo zero-order synthesis and 1st-order degradation; when bound, PD-1 undergoes first-order degradation. Pembro in both the free and sPD-1-bound forms are cleared from the central compartment. Pembro binds both PD-1 and sPD-1 via reversible binding reactions in all compartments. PD-L1 binding to PD-1 only happens in the tumor compartment. "
   ]
  },
  {
   "cell_type": "markdown",
   "id": "15e32679-0487-4a4a-8f41-4abcf763ba14",
   "metadata": {},
   "source": [
    "### Constructing the Model\n",
    "\n",
    "Alright, let's dive into encoding the model. We'll use a combination of standard PySB components and macros along with pysb-pkpd macros. \n",
    "\n",
    "We will use two standard PySB macros: _degrade_ and _bind_. We've already imported the _degrade_ macro, so let's import the _bind_ one here:"
   ]
  },
  {
   "cell_type": "code",
   "execution_count": 58,
   "id": "d99b1b5a-5d1e-4fdb-b0a8-ff6415579ba9",
   "metadata": {},
   "outputs": [],
   "source": [
    "from pysb.macros import bind"
   ]
  },
  {
   "cell_type": "markdown",
   "id": "7869e3e9-5452-4bf5-afbf-e38361a9a4b9",
   "metadata": {},
   "source": [
    "Now we can initialize the new model, giving it a unique name:"
   ]
  },
  {
   "cell_type": "code",
   "execution_count": 59,
   "id": "7311097f-1465-4612-a723-1164bd1e0e30",
   "metadata": {},
   "outputs": [
    {
     "data": {
      "text/plain": [
       "<Model 'pembro' (monomers: 0, rules: 0, parameters: 0, expressions: 0, compartments: 0, energypatterns: 0) at 0x23fb3ff5810>"
      ]
     },
     "execution_count": 59,
     "metadata": {},
     "output_type": "execute_result"
    }
   ],
   "source": [
    "Model(name='pembro')"
   ]
  },
  {
   "cell_type": "markdown",
   "id": "d6298e55-ce75-4c11-b4a4-5292838b16f0",
   "metadata": {},
   "source": [
    "Next, we will add the model compartments. The model is a three-compartment model with _Central_, _Peripheral_, and _Tumor_ compartments. To add the compartments to the model we can use the pysb-pkpd macro `three_compartments`:"
   ]
  },
  {
   "cell_type": "code",
   "execution_count": 60,
   "id": "a6ca3898-cc2c-4db1-8257-2af1e4230b81",
   "metadata": {},
   "outputs": [
    {
     "data": {
      "text/plain": [
       "<function pysb.pkpd.macros.three_compartments(c1_name='CENTRAL', c1_size=1.0, c2_name='PERIPHERAL', c2_size=1.0, c3_name='DEEPPERIPHERAL', c3_size=1.0)>"
      ]
     },
     "execution_count": 60,
     "metadata": {},
     "output_type": "execute_result"
    }
   ],
   "source": [
    "pkpd.three_compartments"
   ]
  },
  {
   "cell_type": "markdown",
   "id": "33356770-773f-44f6-a6af-ff2843e13688",
   "metadata": {},
   "source": [
    "We just need to adjust the name of the third compartment from its default name `'DEEPPERIPHERAL'` to `'TUMOR'`:"
   ]
  },
  {
   "cell_type": "code",
   "execution_count": 61,
   "id": "6ec03f82-5f37-44b9-8f24-6500bd370705",
   "metadata": {},
   "outputs": [
    {
     "data": {
      "text/plain": [
       "ComponentSet([\n",
       " Compartment(name='CENTRAL', parent=None, dimension=3, size=V_CENTRAL),\n",
       " Compartment(name='PERIPHERAL', parent=None, dimension=3, size=V_PERIPHERAL),\n",
       " Compartment(name='TUMOR', parent=None, dimension=3, size=V_TUMOR),\n",
       " Parameter('V_CENTRAL', 1.0),\n",
       " Parameter('V_PERIPHERAL', 1.0),\n",
       " Parameter('V_TUMOR', 1.0),\n",
       " ])"
      ]
     },
     "execution_count": 61,
     "metadata": {},
     "output_type": "execute_result"
    }
   ],
   "source": [
    "pkpd.three_compartments(c3_name='TUMOR')"
   ]
  },
  {
   "cell_type": "markdown",
   "id": "24ed054f-9fdf-423d-af8a-7b0b3c510c96",
   "metadata": {},
   "source": [
    "Now, we'll add the drug and other protein components to the model using PySB `Monomer`s:\n",
    "\n",
    "  1. Pembro:"
   ]
  },
  {
   "cell_type": "code",
   "execution_count": 62,
   "id": "c185a7c4-00b9-4d80-beff-0393f3e837cc",
   "metadata": {},
   "outputs": [
    {
     "data": {
      "text/plain": [
       "Monomer('Pembro', ['b'])"
      ]
     },
     "execution_count": 62,
     "metadata": {},
     "output_type": "execute_result"
    }
   ],
   "source": [
    "# The drug Pembrolizumab (Pembro) with one binding site.\n",
    "Monomer(\"Pembro\", ['b'])"
   ]
  },
  {
   "cell_type": "markdown",
   "id": "f1d8b175-38bf-4cb6-a9ba-5be26ea993ab",
   "metadata": {},
   "source": [
    "  2. Membrane-bound PD1 receptor:"
   ]
  },
  {
   "cell_type": "code",
   "execution_count": 63,
   "id": "d9d2cca3-ea3d-406a-9867-74f86eea157c",
   "metadata": {},
   "outputs": [
    {
     "data": {
      "text/plain": [
       "Monomer('PD1', ['b'])"
      ]
     },
     "execution_count": 63,
     "metadata": {},
     "output_type": "execute_result"
    }
   ],
   "source": [
    "# PD1 with a single binding site:\n",
    "Monomer(\"PD1\", ['b'])"
   ]
  },
  {
   "cell_type": "markdown",
   "id": "94f6c911-440c-4eaf-919f-546ebcffbe7f",
   "metadata": {},
   "source": [
    "  3. Soluble PD1 (sPD1):"
   ]
  },
  {
   "cell_type": "code",
   "execution_count": 64,
   "id": "5d78274f-5820-4792-8b53-4cf4ffe06272",
   "metadata": {},
   "outputs": [
    {
     "data": {
      "text/plain": [
       "Monomer('sPD1', ['b'])"
      ]
     },
     "execution_count": 64,
     "metadata": {},
     "output_type": "execute_result"
    }
   ],
   "source": [
    "# Soluble PD1 with one binding site:\n",
    "Monomer(\"sPD1\", ['b'])"
   ]
  },
  {
   "cell_type": "markdown",
   "id": "b0401ae1-3a1a-4fd4-a707-6e840f783620",
   "metadata": {},
   "source": [
    "  4. Tumor expressed PD-L1 protein:"
   ]
  },
  {
   "cell_type": "code",
   "execution_count": 65,
   "id": "417db846-cee4-48fe-8d39-cc65a5c5dccd",
   "metadata": {},
   "outputs": [
    {
     "data": {
      "text/plain": [
       "Monomer('PDL1', ['b'])"
      ]
     },
     "execution_count": 65,
     "metadata": {},
     "output_type": "execute_result"
    }
   ],
   "source": [
    "Monomer(\"PDL1\", ['b'])"
   ]
  },
  {
   "cell_type": "markdown",
   "id": "853f7287-18e0-4be3-b88a-ab898a18cfbb",
   "metadata": {},
   "source": [
    "Okay, now we can start adding all the PK processes and other mechanisms to the model. \n",
    "\n",
    "**Note on Units:**  we'll define amounts in $\\textrm{n\\,mols}$ (nanomoles), concentrations in $\\textrm{nM}$,  first-order rate constants in $s^{-1}$, and second-order rate constants $(\\textrm{nM} \\times s)^{-1}$. \n",
    "\n",
    "We'll start with drug (Pembro) distribution between the different compartments:\n",
    "\n",
    "\n",
    "  1. Central and Peripheral:"
   ]
  },
  {
   "cell_type": "code",
   "execution_count": 66,
   "id": "dce0b780-847c-4931-b6ba-6891536f1ae1",
   "metadata": {},
   "outputs": [
    {
     "data": {
      "text/plain": [
       "ComponentSet([\n",
       " Rule('distribute_Pembro_CENTRAL_to_PERIPHERAL', Pembro(b=None) ** CENTRAL | Pembro(b=None) ** PERIPHERAL, distribute_Pembro_CENTRAL_to_PERIPHERAL_kf, distribute_Pembro_CENTRAL_to_PERIPHERAL_kr),\n",
       " Parameter('distribute_Pembro_CENTRAL_to_PERIPHERAL_kf', 5e-05),\n",
       " Parameter('distribute_Pembro_CENTRAL_to_PERIPHERAL_kr', 0.001),\n",
       " ])"
      ]
     },
     "execution_count": 66,
     "metadata": {},
     "output_type": "execute_result"
    }
   ],
   "source": [
    "# Pembro distribution/re-distribution \n",
    "# between central and peripheral compartments.\n",
    "pkpd.distribute(Pembro(b=None), CENTRAL, PERIPHERAL, [5e-5, 1e-3])  # "
   ]
  },
  {
   "cell_type": "markdown",
   "id": "792e15d4-4c94-40db-8c71-5c76fbe21527",
   "metadata": {},
   "source": [
    "  2. Central and Tumor:"
   ]
  },
  {
   "cell_type": "code",
   "execution_count": 67,
   "id": "7d2cc19c-d77e-4bc5-8946-0a86a05d9afd",
   "metadata": {
    "scrolled": true
   },
   "outputs": [
    {
     "data": {
      "text/plain": [
       "ComponentSet([\n",
       " Rule('distribute_Pembro_CENTRAL_to_TUMOR', Pembro(b=None) ** CENTRAL | Pembro(b=None) ** TUMOR, distribute_Pembro_CENTRAL_to_TUMOR_kf, distribute_Pembro_CENTRAL_to_TUMOR_kr),\n",
       " Parameter('distribute_Pembro_CENTRAL_to_TUMOR_kf', 2e-06),\n",
       " Parameter('distribute_Pembro_CENTRAL_to_TUMOR_kr', 6e-05),\n",
       " ])"
      ]
     },
     "execution_count": 67,
     "metadata": {},
     "output_type": "execute_result"
    }
   ],
   "source": [
    "# Pembro distribution/re-distribution \n",
    "# between central and tumor compartments.\n",
    "pkpd.distribute(Pembro(b=None), CENTRAL, TUMOR, [2e-6, 6e-5])"
   ]
  },
  {
   "cell_type": "markdown",
   "id": "5f495ab5-0f2e-4aeb-ac83-5e9b0aee64c0",
   "metadata": {},
   "source": [
    "The drug undergoes elimination from the central compartment, which we'll go ahead and add:"
   ]
  },
  {
   "cell_type": "code",
   "execution_count": 68,
   "id": "5737d1a8-9b96-4279-a4d7-ef5a6218d7de",
   "metadata": {},
   "outputs": [
    {
     "data": {
      "text/plain": [
       "ComponentSet([\n",
       " Rule('eliminate_Pembro_CENTRAL', Pembro(b=WILD) ** CENTRAL >> None, eliminate_Pembro_CENTRAL_k),\n",
       " Parameter('eliminate_Pembro_CENTRAL_k', 3e-06),\n",
       " ])"
      ]
     },
     "execution_count": 68,
     "metadata": {},
     "output_type": "execute_result"
    }
   ],
   "source": [
    "# Drug elimination from the central compartment.\n",
    "pkpd.eliminate(Pembro(b=WILD), CENTRAL, 3e-6) "
   ]
  },
  {
   "cell_type": "markdown",
   "id": "19f3598b-eff3-4802-87a8-6e6553727085",
   "metadata": {},
   "source": [
    "Next, let's define all the binding interactions:\n",
    "\n",
    "  1. Pembro and PD1:"
   ]
  },
  {
   "cell_type": "code",
   "execution_count": 69,
   "id": "0868f6b7-d834-4959-acd4-fd3a1bab3fe0",
   "metadata": {},
   "outputs": [
    {
     "data": {
      "text/plain": [
       "ComponentSet([\n",
       " Rule('bind_Pembro_PD1', Pembro(b=None) + PD1(b=None) | Pembro(b=1) % PD1(b=1), bind_Pembro_PD1_kf, bind_Pembro_PD1_kr),\n",
       " Parameter('bind_Pembro_PD1_kf', 0.0005),\n",
       " Parameter('bind_Pembro_PD1_kr', 0.008),\n",
       " ])"
      ]
     },
     "execution_count": 69,
     "metadata": {},
     "output_type": "execute_result"
    }
   ],
   "source": [
    "# Binding interaction between Pembro and PD1 in all compartments,\n",
    "# using the bind macro:\n",
    "bind(Pembro, 'b', PD1, 'b', [5e-4, 8e-3])"
   ]
  },
  {
   "cell_type": "markdown",
   "id": "435312c0-6d84-4b92-a403-3f830a6903b6",
   "metadata": {},
   "source": [
    "  2. Pembro and soluble PD1:"
   ]
  },
  {
   "cell_type": "code",
   "execution_count": 70,
   "id": "fa895b5f-e891-4519-a733-810727049290",
   "metadata": {},
   "outputs": [
    {
     "data": {
      "text/plain": [
       "ComponentSet([\n",
       " Rule('bind_Pembro_sPD1', Pembro(b=None) + sPD1(b=None) | Pembro(b=1) % sPD1(b=1), bind_Pembro_sPD1_kf, bind_Pembro_sPD1_kr),\n",
       " Parameter('bind_Pembro_sPD1_kf', 0.0005),\n",
       " Parameter('bind_Pembro_sPD1_kr', 0.008),\n",
       " ])"
      ]
     },
     "execution_count": 70,
     "metadata": {},
     "output_type": "execute_result"
    }
   ],
   "source": [
    "# Binding interaction between Pembro and sPD1 in all compartments,\n",
    "# using the bind macro:\n",
    "bind(Pembro, 'b', sPD1, 'b', [5e-4, 8e-3])"
   ]
  },
  {
   "cell_type": "markdown",
   "id": "f1376480-a2f6-4b82-a642-3dca268ae89f",
   "metadata": {},
   "source": [
    "  3. PD1 and PD-L1 in the Tumor:"
   ]
  },
  {
   "cell_type": "code",
   "execution_count": 71,
   "id": "225e8631-4daa-4d5f-9cf4-c2da27e29c9a",
   "metadata": {},
   "outputs": [
    {
     "data": {
      "text/plain": [
       "ComponentSet([\n",
       " Rule('bind_PD1_PDL1', PD1(b=None) ** TUMOR + PDL1(b=None) ** TUMOR | PD1(b=1) ** TUMOR % PDL1(b=1) ** TUMOR, bind_PD1_PDL1_kf, bind_PD1_PDL1_kr),\n",
       " Parameter('bind_PD1_PDL1_kf', 1e-07),\n",
       " Parameter('bind_PD1_PDL1_kr', 0.01),\n",
       " ])"
      ]
     },
     "execution_count": 71,
     "metadata": {},
     "output_type": "execute_result"
    }
   ],
   "source": [
    "# Binding interaction between Pembro and PDL1 in the tumor compartment,\n",
    "# using the bind macro:\n",
    "bind(PD1(b=None)**TUMOR, 'b', PDL1(b=None)**TUMOR, 'b', [1e-7, 1e-2])"
   ]
  },
  {
   "cell_type": "markdown",
   "id": "6c94f33c-c2d6-4414-b31e-27da5d50028e",
   "metadata": {},
   "source": [
    "The model also includes PD1 turnover, which includes:\n",
    "\n",
    "  1. Synthesis of PD1 in all compartments:"
   ]
  },
  {
   "cell_type": "code",
   "execution_count": 72,
   "id": "e9d434af-b703-40c9-8578-8abf00f8b509",
   "metadata": {},
   "outputs": [],
   "source": [
    "# We'll use this complex pattern to apply synthesis of \n",
    "# PD1 in all three compartments.\n",
    "pd1_all = (PD1(b=None)**CENTRAL + PD1(b=None)**PERIPHERAL + PD1(b=None)**TUMOR)"
   ]
  },
  {
   "cell_type": "code",
   "execution_count": 73,
   "id": "1a21f533-4c80-4ed2-928f-70b0a6a473f7",
   "metadata": {},
   "outputs": [
    {
     "data": {
      "text/plain": [
       "Rule('PD1_synth', None >> PD1(b=None) ** CENTRAL + PD1(b=None) ** PERIPHERAL + PD1(b=None) ** TUMOR, k_PD1_synth)"
      ]
     },
     "execution_count": 73,
     "metadata": {},
     "output_type": "execute_result"
    }
   ],
   "source": [
    "# Zero-order rate constant and Rule for the synthesis:\n",
    "Parameter(\"k_PD1_synth\", 3e-6)\n",
    "Rule(\"PD1_synth\", None >> pd1_all, k_PD1_synth)"
   ]
  },
  {
   "cell_type": "markdown",
   "id": "bec12c07-5034-4b82-b5f6-0403378a27cf",
   "metadata": {},
   "source": [
    "  2. Degradation of PD1 in all binding states and all compartments:"
   ]
  },
  {
   "cell_type": "code",
   "execution_count": 74,
   "id": "d295dfb6-1428-4b8c-b671-57b757a64e7c",
   "metadata": {},
   "outputs": [
    {
     "data": {
      "text/plain": [
       "ComponentSet([\n",
       " Rule('degrade_PD1WILD', PD1(b=WILD) >> None, degrade_PD1WILD_k),\n",
       " Parameter('degrade_PD1WILD_k', 3e-06),\n",
       " ])"
      ]
     },
     "execution_count": 74,
     "metadata": {},
     "output_type": "execute_result"
    }
   ],
   "source": [
    "# Using the degrade macro here:\n",
    "degrade(PD1(b=WILD), 3e-6)"
   ]
  },
  {
   "cell_type": "markdown",
   "id": "3bf93824-f89b-41e1-ab84-cf2bda798693",
   "metadata": {},
   "source": [
    "Next, we can set up the drug dose and initial conditions for all the other proteins:"
   ]
  },
  {
   "cell_type": "markdown",
   "id": "0c1fb6e0-d90a-42ef-ad1d-772deaa92566",
   "metadata": {},
   "source": [
    "  1. Drug dose of Pembro which is added to the central compartment by first-order absorption:"
   ]
  },
  {
   "cell_type": "markdown",
   "id": "10138dc4-03cb-4f9c-8a71-b40466affedd",
   "metadata": {},
   "source": [
    "<div class=\"alert alert-info\">\n",
    "A drug dose with first-order absorption can added to the model with the pysb-pkpd <strong>dose_absorbed</strong> macro.\n",
    "</div>"
   ]
  },
  {
   "cell_type": "code",
   "execution_count": 75,
   "id": "d2d52971-89e8-46ca-b427-0e0504285e10",
   "metadata": {},
   "outputs": [
    {
     "data": {
      "text/plain": [
       "<function pysb.pkpd.macros.dose_absorbed(species, compartment, dose, ka, f)>"
      ]
     },
     "execution_count": 75,
     "metadata": {},
     "output_type": "execute_result"
    }
   ],
   "source": [
    "pkpd.dose_absorbed"
   ]
  },
  {
   "cell_type": "code",
   "execution_count": 76,
   "id": "787b4972-3dc2-4a59-9204-08b6818ced77",
   "metadata": {
    "scrolled": true
   },
   "outputs": [
    {
     "data": {
      "text/plain": [
       "ComponentSet([\n",
       " Rule('absorb_Pembro_CENTRAL', Pembro_CENTRAL_precursor() ** CENTRAL >> Pembro(b=None) ** CENTRAL, absorb_Pembro_CENTRAL_ka),\n",
       " Parameter('absorb_Pembro_CENTRAL_ka', 0.003),\n",
       " Parameter('dose_Pembro_CENTRAL', 2000.0),\n",
       " Expression('expr_Pembro_CENTRAL_dose', dose_Pembro_CENTRAL/V_CENTRAL),\n",
       " Parameter('ka_Pembro_CENTRAL', 0.003),\n",
       " Parameter('F_Pembro_CENTRAL', 1.0),\n",
       " Monomer('Pembro_CENTRAL_precursor'),\n",
       " ])"
      ]
     },
     "execution_count": 76,
     "metadata": {},
     "output_type": "execute_result"
    }
   ],
   "source": [
    "# We'll use the pysb-pkpd dose_absorbed macro. The parameter\n",
    "# f is the bioavailability fraction.\n",
    "pkpd.dose_absorbed(Pembro(b=None), CENTRAL, 2000.0, 3e-3, 1.0)"
   ]
  },
  {
   "cell_type": "markdown",
   "id": "0946aba5-0234-4e03-a07b-ce10766c3223",
   "metadata": {},
   "source": [
    "  2. PD1 in each compartment:"
   ]
  },
  {
   "cell_type": "code",
   "execution_count": 77,
   "id": "f7cbcc35-a7c2-4bfd-9805-77c8b3bd3f14",
   "metadata": {},
   "outputs": [
    {
     "data": {
      "text/plain": [
       "Initial(PD1(b=None) ** TUMOR, PD1_T0)"
      ]
     },
     "execution_count": 77,
     "metadata": {},
     "output_type": "execute_result"
    }
   ],
   "source": [
    "Parameter('PD1_CP0', 0.0141)\n",
    "Initial(PD1(b=None)**CENTRAL, PD1_CP0)\n",
    "Initial(PD1(b=None)**PERIPHERAL, PD1_CP0)\n",
    "Parameter('PD1_T0', 0.083)\n",
    "Initial(PD1(b=None)**TUMOR, PD1_T0)"
   ]
  },
  {
   "cell_type": "markdown",
   "id": "53652c05-5e6a-43a2-ad61-349b8e17c4c5",
   "metadata": {},
   "source": [
    "  3. Soluble PD1 (sPD1) in each compartment:"
   ]
  },
  {
   "cell_type": "code",
   "execution_count": 78,
   "id": "70c381db-713a-44c8-8d66-b078ab61018a",
   "metadata": {},
   "outputs": [
    {
     "data": {
      "text/plain": [
       "Initial(sPD1(b=None) ** TUMOR, sPD1_0)"
      ]
     },
     "execution_count": 78,
     "metadata": {},
     "output_type": "execute_result"
    }
   ],
   "source": [
    "Parameter('sPD1_0', 0.0143)\n",
    "Initial(sPD1(b=None)**CENTRAL, sPD1_0)\n",
    "Initial(sPD1(b=None)**PERIPHERAL, sPD1_0)\n",
    "Initial(sPD1(b=None)**TUMOR, sPD1_0)"
   ]
  },
  {
   "cell_type": "markdown",
   "id": "235f7a36-464b-4d05-812e-4fa923f24a25",
   "metadata": {},
   "source": [
    "  4. PD-L1 protein expressed in the tumor compartment:"
   ]
  },
  {
   "cell_type": "code",
   "execution_count": 79,
   "id": "7430efd2-f9d0-45d1-8f71-790a4dc7cfc8",
   "metadata": {},
   "outputs": [
    {
     "data": {
      "text/plain": [
       "Initial(PDL1(b=None) ** TUMOR, PDL1_0)"
      ]
     },
     "execution_count": 79,
     "metadata": {},
     "output_type": "execute_result"
    }
   ],
   "source": [
    "Parameter('PDL1_0', 0.010)\n",
    "Initial(PDL1(b=None)**TUMOR, PDL1_0)"
   ]
  },
  {
   "cell_type": "markdown",
   "id": "8fa59566-472b-4e20-8da4-3e5a40469794",
   "metadata": {},
   "source": [
    "Finally, we'll define all the observable quantities we want to monitor:\n",
    "\n",
    "  1. Pembro RO at PD1 in the tumor:"
   ]
  },
  {
   "cell_type": "code",
   "execution_count": 80,
   "id": "50a2edbe-17fc-4d4a-8333-7043af3a6e5d",
   "metadata": {},
   "outputs": [
    {
     "data": {
      "text/latex": [
       "$\\displaystyle Pembro_{PD1 TUMOR}$"
      ],
      "text/plain": [
       "Observable('Pembro_PD1_TUMOR', Pembro(b=ANY) ** TUMOR % PD1(b=ANY) ** TUMOR)"
      ]
     },
     "execution_count": 80,
     "metadata": {},
     "output_type": "execute_result"
    }
   ],
   "source": [
    "# Pembro bound to PD1 in the tumor:\n",
    "Observable(\"Pembro_PD1_TUMOR\", Pembro(b=ANY)**TUMOR % PD1(b=ANY)**TUMOR)"
   ]
  },
  {
   "cell_type": "code",
   "execution_count": 81,
   "id": "fc2bc733-8cf2-4181-a391-428c324f70ce",
   "metadata": {},
   "outputs": [
    {
     "data": {
      "text/latex": [
       "$\\displaystyle PD_{1 TUMOR}$"
      ],
      "text/plain": [
       "Observable('PD1_TUMOR', PD1(b=WILD) ** TUMOR)"
      ]
     },
     "execution_count": 81,
     "metadata": {},
     "output_type": "execute_result"
    }
   ],
   "source": [
    "# Total PD1 in the tumor:\n",
    "Observable(\"PD1_TUMOR\", PD1(b=WILD)**TUMOR)"
   ]
  },
  {
   "cell_type": "code",
   "execution_count": 82,
   "id": "b0c2627e-5038-4ec4-95a0-3b6788789bd9",
   "metadata": {},
   "outputs": [
    {
     "data": {
      "text/latex": [
       "$\\displaystyle RO_{TUMOR}$"
      ],
      "text/plain": [
       "Expression('RO_TUMOR', 100*Pembro_PD1_TUMOR/PD1_TUMOR)"
      ]
     },
     "execution_count": 82,
     "metadata": {},
     "output_type": "execute_result"
    }
   ],
   "source": [
    "# The percentage RO for Pembro at PD1:\n",
    "Expression(\"RO_TUMOR\", 100 * Pembro_PD1_TUMOR / PD1_TUMOR) "
   ]
  },
  {
   "cell_type": "markdown",
   "id": "37fb4e00-eae9-4758-b088-af1c4ee117c0",
   "metadata": {},
   "source": [
    "  2. Pembro in each compartment:"
   ]
  },
  {
   "cell_type": "code",
   "execution_count": 83,
   "id": "16243365-3d19-4446-a029-74bc21cc7ecc",
   "metadata": {},
   "outputs": [
    {
     "data": {
      "text/latex": [
       "$\\displaystyle Pembro_{CENTRAL}$"
      ],
      "text/plain": [
       "Observable('Pembro_CENTRAL', Pembro(b=WILD) ** CENTRAL)"
      ]
     },
     "execution_count": 83,
     "metadata": {},
     "output_type": "execute_result"
    }
   ],
   "source": [
    "# Total Pembro in the central compartment:\n",
    "Observable(\"Pembro_CENTRAL\", Pembro(b=WILD)**CENTRAL)"
   ]
  },
  {
   "cell_type": "code",
   "execution_count": 84,
   "id": "5362d646-d562-4fcd-a855-ad30c16b9436",
   "metadata": {},
   "outputs": [
    {
     "data": {
      "text/latex": [
       "$\\displaystyle Pembro_{TUMOR}$"
      ],
      "text/plain": [
       "Observable('Pembro_TUMOR', Pembro(b=WILD) ** TUMOR)"
      ]
     },
     "execution_count": 84,
     "metadata": {},
     "output_type": "execute_result"
    }
   ],
   "source": [
    "# Total Pembro in the tumor compartment:\n",
    "Observable(\"Pembro_TUMOR\", Pembro(b=WILD)**TUMOR)"
   ]
  },
  {
   "cell_type": "code",
   "execution_count": 85,
   "id": "1cb26972-e040-45d2-b5e3-1e3f07d0d477",
   "metadata": {},
   "outputs": [
    {
     "data": {
      "text/latex": [
       "$\\displaystyle Pembro_{PERIPHERAL}$"
      ],
      "text/plain": [
       "Observable('Pembro_PERIPHERAL', Pembro(b=WILD) ** PERIPHERAL)"
      ]
     },
     "execution_count": 85,
     "metadata": {},
     "output_type": "execute_result"
    }
   ],
   "source": [
    "# Total Pembro in the peripheral compartment:\n",
    "Observable(\"Pembro_PERIPHERAL\", Pembro(b=WILD)**PERIPHERAL)"
   ]
  },
  {
   "cell_type": "markdown",
   "id": "7f7b5866-c648-4ceb-9c04-752d60e7bfa8",
   "metadata": {},
   "source": [
    "  3. Total circulating Pembro in the plasma (i.e., central compartment), which is assumed to include both free Pembro and Pembro bound to soluble PD1:"
   ]
  },
  {
   "cell_type": "code",
   "execution_count": 86,
   "id": "b4767f6d-aefc-431b-8251-e30e1563786a",
   "metadata": {},
   "outputs": [
    {
     "data": {
      "text/latex": [
       "$\\displaystyle Pembro_{free CENTRAL}$"
      ],
      "text/plain": [
       "Observable('Pembro_free_CENTRAL', Pembro(b=None) ** CENTRAL)"
      ]
     },
     "execution_count": 86,
     "metadata": {},
     "output_type": "execute_result"
    }
   ],
   "source": [
    "# Free, unbound, Pembro in the central compartment:\n",
    "Observable(\"Pembro_free_CENTRAL\", Pembro(b=None)**CENTRAL)"
   ]
  },
  {
   "cell_type": "code",
   "execution_count": 87,
   "id": "7b699104-3429-4ee9-abfb-7ee379c95a10",
   "metadata": {},
   "outputs": [
    {
     "data": {
      "text/latex": [
       "$\\displaystyle Pembro_{sPD1 CENTRAL}$"
      ],
      "text/plain": [
       "Observable('Pembro_sPD1_CENTRAL', Pembro(b=ANY) ** CENTRAL % sPD1(b=ANY) ** CENTRAL)"
      ]
     },
     "execution_count": 87,
     "metadata": {},
     "output_type": "execute_result"
    }
   ],
   "source": [
    "# Pembro bound to soluble PD1 in the central compartent:\n",
    "Observable(\"Pembro_sPD1_CENTRAL\", Pembro(b=ANY)**CENTRAL % sPD1(b=ANY)**CENTRAL)"
   ]
  },
  {
   "cell_type": "code",
   "execution_count": 88,
   "id": "5e5ff655-4499-45eb-9164-886289bbc9f4",
   "metadata": {},
   "outputs": [
    {
     "data": {
      "text/latex": [
       "$\\displaystyle Pembro_{plasma}$"
      ],
      "text/plain": [
       "Expression('Pembro_plasma', Pembro_free_CENTRAL + Pembro_sPD1_CENTRAL)"
      ]
     },
     "execution_count": 88,
     "metadata": {},
     "output_type": "execute_result"
    }
   ],
   "source": [
    "# Total circulating Pembro:\n",
    "Expression(\"Pembro_plasma\", Pembro_free_CENTRAL + Pembro_sPD1_CENTRAL)"
   ]
  },
  {
   "cell_type": "markdown",
   "id": "28ff694d-8e57-47f8-add1-2ed412f1ca24",
   "metadata": {},
   "source": [
    "We can look at the model summary:"
   ]
  },
  {
   "cell_type": "code",
   "execution_count": 89,
   "id": "400c73d9-bcda-4c1d-a073-654165ad5b39",
   "metadata": {},
   "outputs": [
    {
     "name": "stdout",
     "output_type": "stream",
     "text": [
      "<Model 'pembro' (monomers: 5, rules: 9, parameters: 24, expressions: 4, compartments: 3, energypatterns: 0) at 0x23fb3ff5810>\n"
     ]
    }
   ],
   "source": [
    "print(pembro)"
   ]
  },
  {
   "cell_type": "markdown",
   "id": "b81e1389-58a3-4c73-8f9a-dea7f1ec10a9",
   "metadata": {},
   "source": [
    "A condensed version of the model code looks like:\n",
    "\n",
    "```python\n",
    "from pysb import *\n",
    "from pysb.macros import bind, degrade\n",
    "import pysb.pkpd as pkpd\n",
    "\n",
    "Model(name='pembro')\n",
    "\n",
    "pkpd.three_compartments(c3_name='TUMOR')\n",
    "\n",
    "# The drug Pembrolizumab (Pembro) with one binding site.\n",
    "Monomer(\"Pembro\", ['b'])\n",
    "# PD1 with a single binding site:\n",
    "Monomer(\"PD1\", ['b'])\n",
    "# Soluble PD1 with one binding site:\n",
    "Monomer(\"sPD1\", ['b'])\n",
    "# PD-L1 protein with one binding site:\n",
    "Monomer(\"PDL1\", ['b'])\n",
    "\n",
    "# Pembro distribution/re-distribution \n",
    "# between central and peripheral compartments.\n",
    "pkpd.distribute(Pembro(b=None), CENTRAL, PERIPHERAL, [5e-6, 1e-4])\n",
    "# Pembro distribution/re-distribution \n",
    "# between central and tumor compartments.\n",
    "pkpd.distribute(Pembro(b=None), CENTRAL, TUMOR, [2e-6, 6e-5])\n",
    "\n",
    "# Drug elimination from the central compartment.\n",
    "pkpd.eliminate(Pembro(b=WILD), CENTRAL, 6e-6) \n",
    "\n",
    "bind(Pembro, 'b', PD1, 'b', [5e-4, 8e-3])\n",
    "bind(Pembro, 'b', sPD1, 'b', [5e-4, 8e-3])\n",
    "bind(PD1(b=None)**TUMOR, 'b', PDL1(b=None)**TUMOR, 'b', [1e-7, 1e-2])\n",
    "\n",
    "degrade(PD1(b=WILD), 3e-6)\n",
    "pd1_all = (PD1(b=None)**CENTRAL + PD1(b=None)**PERIPHERAL + PD1(b=None)**TUMOR)\n",
    "\n",
    "Parameter(\"k_PD1_synth\", 3e-6)\n",
    "Rule(\"PD1_synth\", None >> pd1_all, k_PD1_synth)\n",
    "\n",
    "pkpd.dose_absorbed(Pembro(b=None), CENTRAL, 2000.0, 3e-3, 1.0)\n",
    "\n",
    "Parameter('PD1_CP0', 0.1)\n",
    "Initial(PD1(b=None)**CENTRAL, PD1_CP0)\n",
    "Initial(PD1(b=None)**PERIPHERAL, PD1_CP0)\n",
    "Parameter('PD1_T0', 0.083)\n",
    "Initial(PD1(b=None)**TUMOR, PD1_T0)\n",
    "\n",
    "Parameter('sPD1_0', 0.0415)\n",
    "Initial(sPD1(b=None)**CENTRAL, sPD1_0)\n",
    "Initial(sPD1(b=None)**PERIPHERAL, sPD1_0)\n",
    "Initial(sPD1(b=None)**TUMOR, sPD1_0)\n",
    "\n",
    "Parameter('PDL1_0', 0.010)\n",
    "Initial(PDL1(b=None)**TUMOR, PDL1_0)\n",
    "\n",
    "Observable(\"Pembro_PD1_TUMOR\", Pembro(b=ANY)**TUMOR % PD1(b=ANY)**TUMOR)\n",
    "Observable(\"PD1_TUMOR\", PD1(b=WILD)**TUMOR)\n",
    "Expression(\"RO_TUMOR\", 100 * Pembro_PD1_TUMOR / PD1_TUMOR) \n",
    "Observable(\"Pembro_CENTRAL\", Pembro(b=WILD)**CENTRAL)\n",
    "Observable(\"Pembro_TUMOR\", Pembro(b=WILD)**TUMOR)\n",
    "Observable(\"Pembro_PERIPHERAL\", Pembro(b=WILD)**PERIPHERAL)\n",
    "```"
   ]
  },
  {
   "cell_type": "markdown",
   "id": "39caee6b-d2af-4c77-bb2f-c4b1b37f375b",
   "metadata": {},
   "source": [
    "#### Simulate the model\n",
    "\n",
    "Now, let's try simulating the model.\n",
    "\n",
    "  1. Initialize the simulator with our new model:"
   ]
  },
  {
   "cell_type": "code",
   "execution_count": 90,
   "id": "27cd106b-ef28-462b-9e42-bc2821e318e4",
   "metadata": {},
   "outputs": [],
   "source": [
    "sim = ScipyOdeSimulator(pembro)"
   ]
  },
  {
   "cell_type": "markdown",
   "id": "ac01e987-9c62-44d7-9180-2cd23c7ca0fd",
   "metadata": {},
   "source": [
    "  2. Define the time course we want to simulate:"
   ]
  },
  {
   "cell_type": "code",
   "execution_count": 91,
   "id": "a731cde2-d167-4f0c-a8c1-faa13c30d528",
   "metadata": {},
   "outputs": [
    {
     "data": {
      "text/plain": [
       "array([     0,     10,     20, ..., 691170, 691180, 691190])"
      ]
     },
     "execution_count": 91,
     "metadata": {},
     "output_type": "execute_result"
    }
   ],
   "source": [
    "# 86,400 s/day\n",
    "# 8 days with timepoints every 10 seconds:\n",
    "tspan = np.arange(0, 86400 * 8, 10)\n",
    "tspan"
   ]
  },
  {
   "cell_type": "markdown",
   "id": "b4d58f7c-4fca-45fd-8ab7-781a5235c6e3",
   "metadata": {},
   "source": [
    "  3. Run the simulation and extract the outputs:"
   ]
  },
  {
   "cell_type": "code",
   "execution_count": 92,
   "id": "1b458b35-761d-49ca-8d4c-ea9563c906f8",
   "metadata": {},
   "outputs": [],
   "source": [
    "out = sim.run(tspan=tspan).all"
   ]
  },
  {
   "cell_type": "markdown",
   "id": "109e64d1-2782-4ad6-af17-566fe603088f",
   "metadata": {},
   "source": [
    "#### Visualize Results"
   ]
  },
  {
   "cell_type": "markdown",
   "id": "a24d4e33-e3d1-406c-968d-d071738457c0",
   "metadata": {},
   "source": [
    "Here,we can plot the key outputs, including:\n",
    "\n",
    "  1. Total Pembro in each model compartment:"
   ]
  },
  {
   "cell_type": "code",
   "execution_count": 93,
   "id": "bf7c8a65-b5ae-4111-881b-5679255c2ba5",
   "metadata": {},
   "outputs": [
    {
     "data": {
      "image/png": "[encoded data removed]",
      "text/plain": [
       "<Figure size 640x480 with 1 Axes>"
      ]
     },
     "metadata": {},
     "output_type": "display_data"
    }
   ],
   "source": [
    "tspan_day = tspan / 86400\n",
    "plt.plot(tspan_day, out['Pembro_CENTRAL'], label='Central')\n",
    "plt.plot(tspan_day, out['Pembro_PERIPHERAL'], label='Peripheral')\n",
    "plt.plot(tspan_day, out['Pembro_TUMOR'], label='Tumor')\n",
    "plt.xlabel(\"Time (days)\")\n",
    "plt.ylabel(\"Concentration (nM)\")\n",
    "plt.legend(loc=0)\n",
    "plt.yscale('log')"
   ]
  },
  {
   "cell_type": "markdown",
   "id": "0bc5495c-e1d9-46fd-a50c-d26529bc7bc0",
   "metadata": {},
   "source": [
    "  2. Total circulating Pembro:"
   ]
  },
  {
   "cell_type": "code",
   "execution_count": 94,
   "id": "cb90560a-1218-4dd4-9804-77b6e8d46e18",
   "metadata": {},
   "outputs": [
    {
     "data": {
      "image/png": "[encoded data removed]",
      "text/plain": [
       "<Figure size 640x480 with 1 Axes>"
      ]
     },
     "metadata": {},
     "output_type": "display_data"
    }
   ],
   "source": [
    "plt.plot(tspan_day, out['Pembro_plasma'])\n",
    "plt.xlabel(\"Time (days)\")\n",
    "plt.ylabel(\"Concentration (nM)\")\n",
    "#plt.legend(loc=0)\n",
    "plt.yscale('log')"
   ]
  },
  {
   "cell_type": "markdown",
   "id": "52b3e4e5-c6d4-4121-a3d3-eaf5b9cf92f6",
   "metadata": {},
   "source": [
    "  3. RO for Pembro at PD1 in the tumor:"
   ]
  },
  {
   "cell_type": "code",
   "execution_count": 95,
   "id": "467f265d-1d71-494a-9431-f100980f79c0",
   "metadata": {},
   "outputs": [
    {
     "data": {
      "text/plain": [
       "Text(0, 0.5, 'RO (%)')"
      ]
     },
     "execution_count": 95,
     "metadata": {},
     "output_type": "execute_result"
    },
    {
     "data": {
      "image/png": "[encoded data removed]",
      "text/plain": [
       "<Figure size 640x480 with 1 Axes>"
      ]
     },
     "metadata": {},
     "output_type": "display_data"
    }
   ],
   "source": [
    "plt.plot(tspan_day, out['RO_TUMOR'])\n",
    "plt.xlabel(\"Time (days)\")\n",
    "plt.ylabel(\"RO (%)\")"
   ]
  },
  {
   "cell_type": "markdown",
   "id": "62ed17e5-fae3-4cbc-b77b-b4bbe0c8c62c",
   "metadata": {},
   "source": [
    "## Closing Thoughts\n",
    "\n",
    "In this post, we covered the basics of PK/PD modeling and did a quick overview of the PySB modeling framework. Then, we dove into creating and simulating dynamic PK/PD models of drug behavior and response using PySB and pysb-pkpd by working through two illustrative case studies. With these case studies, we demonstrated the power of combining PySB with the pysb-pkpd add-on to programmatically construct and execute different types of PK/PD models, such as compartmental models, mechanistic/semi-mechanistic models, and quantitative systems pharmacology/toxicology models.\n",
    "\n",
    "Whether you're an aspiring PK/PD modeler, a Python enthusiast, or simply curious about pharmacology, I hope you've found this post helpful and informative. \n",
    "\n",
    "Now, it's your turn. Go out and experiment more with PySB and pysb-pkpd, construct your own models, or explore other real-world PK/PD modeling applications. And, if you know someone else who might find this post useful, please share! \n",
    "\n",
    "Well, that’s it. Thanks for stopping by! If you have questions or comments, feel free to [email me](mailto:blakeaw1102@gmail.com) or hit me up on [LinkedIn](https://www.linkedin.com/in/blakewilson3/).\n",
    "\n",
    "Until next time – Blake\n",
    "\n",
    "Like this content? You can follow this blog and get updated about new posts via my blog's RSS/Atom Feed. "
   ]
  },
  {
   "cell_type": "markdown",
   "id": "17b88dd1-2318-431e-9339-9b3c34b98867",
   "metadata": {},
   "source": [
    "## Acknowledgements\n",
    "\n",
    "A special thanks to Dr. Oscar Ortega, whose remarks ultimately influenced my decision to further explore PySB as a framework for PK/PD modeling.\n",
    "\n",
    "I used ChatGPT to help construct an initial outline of this post, and I used Grammarly and ChatGPT for proofreading and editing."
   ]
  },
  {
   "cell_type": "markdown",
   "id": "13852f33-5cf4-4fef-9e70-cbd32ab4a9b8",
   "metadata": {},
   "source": [
    "## References\n",
    "\n",
    "1. <div class=\"csl-entry\">Meibohm, B., &#38; Derendorf, H. (1997). Basic concepts of pharmacokinetic/pharmacodynamic (PK/PD) modeling. <i>International Journal of Clinical Pharmacology and Therapeutics</i>, <i>35</i>(10), 401–413.</div>\n",
    "\n",
    "2. <div class=\"csl-entry\">Zou, H., Banerjee, P., Leung, S. S. Y., &#38; Yan, X. (2020). Application of Pharmacokinetic-Pharmacodynamic Modeling in Drug Delivery: Development and Challenges. <i>Frontiers in Pharmacology</i>, <i>11</i>, 543082. https://doi.org/10.3389/FPHAR.2020.00997/BIBTEX</div>\n",
    "\n",
    "3. <div class=\"csl-entry\"><i>What Is a Pharmacokinetic Model?</i> (n.d.). Retrieved October 11, 2023, from https://www.mathworks.com/discovery/pharmacokinetic.html</div>\n",
    "\n",
    "4. <div class=\"csl-entry\"><i>Compartmental Modeling in Pharmacokinetics | Allucent</i>. (n.d.). Retrieved October 10, 2023, from https://www.allucent.com/resources/blog/compartmental-modeling-pharmacokinetics</div>\n",
    "\n",
    "5. <div class=\"csl-entry\">Doogue, M. P., &#38; Polasek, T. M. (2013). The ABCD of clinical pharmacokinetics. <i>Therapeutic Advances in Drug Safety</i>, <i>4</i>(1), 5–7. https://doi.org/10.1177/2042098612469335/ASSET/IMAGES/LARGE/10.1177_2042098612469335-FIG1.JPEG</div>\n",
    "\n",
    "6. <div class=\"csl-entry\"><i>PK and PD Modeling - Open Systems Pharmacology</i>. (n.d.). Retrieved October 11, 2023, from https://docs.open-systems-pharmacology.org/mechanistic-modeling-of-pharmacokinetics-and-dynamics/modeling-concepts/modeling-concepts-pk-and-pd-modeling</div>\n",
    "\n",
    "7. <div class=\"csl-entry\">Teuscher, N. (2011). <i>What are Compartmental Models? | Certara</i>. https://www.certara.com/knowledge-base/what-are-compartmental-models/</div>\n",
    "\n",
    "8. <div class=\"csl-entry\">Ki, S. (2020). A semi-compartmental model describing the pharmacokinetic-pharmacodynamic relationship. <i>Anesthesia and Pain Medicine</i>, <i>15</i>(1), 1–7. https://doi.org/10.17085/APM.2020.15.1.1</div>\n",
    "\n",
    "9. <div class=\"csl-entry\"><i>Single and multiple compartment models of drug distribution | Deranged Physiology</i>. (n.d.). Retrieved October 11, 2023, from https://derangedphysiology.com/main/cicm-primary-exam/required-reading/pharmacokinetics/Chapter%20201/single-and-multiple-compartment-models-drug-distribution</div>\n",
    "\n",
    "10. <div class=\"csl-entry\"><i>Mechanistic PK/PD | Applied BioMath</i>. (n.d.). Retrieved October 11, 2023, from https://www.appliedbiomath.com/services/mechanistic-pkpd</div>\n",
    "\n",
    "11. <div class=\"csl-entry\">Grant, J., Hua, F., Apgar, J. F., Burke, J. M., &#38; Marcantonio, D. H. (2023). Mechanistic PK/PD modeling to address early-stage biotherapeutic dosing feasibility questions. <i>MAbs</i>, <i>15</i>(1). https://doi.org/10.1080/19420862.2023.2192251</div>\n",
    "\n",
    "12. <div class=\"csl-entry\">Sorger, P. K., Allerheiligen, S. R. B., Abernethy, D. R., Altman, R. B., Brouwer, K. L. R., Califano, A., D’argenio, D. Z., Iyengar, R., Jusko, W. J., Lalonde, R., Lauffenburger, D. A., Shoichet, B., Stevens, J. L., Subramaniam, S., van der Graaf, P., Vicini, P., Lalonde, R. L., &#38; Ward, R. (n.d.). <i>Quantitative and Systems Pharmacology in the Post-genomic Era: New Approaches to Discovering Drugs and Understanding Therapeutic Mechanisms Author Affiliations</i>.</div>\n",
    "\n",
    "13. <div class=\"csl-entry\"><i>Quantitative Systems Pharmacology | Applied BioMath</i>. (n.d.). Retrieved October 11, 2023, from https://www.appliedbiomath.com/services/quantitative-systems-pharmacology</div>\n",
    "\n",
    "14. <div class=\"csl-entry\">Bloomingdale, P., Housand, C., Apgar, J. F., Millard, B. L., Mager, D. E., Burke, J. M., &#38; Shah, D. K. (2017). Quantitative systems toxicology. <i>Current Opinion in Toxicology</i>, <i>4</i>, 79–87. https://doi.org/10.1016/J.COTOX.2017.07.003</div>\n",
    "\n",
    "15. <div class=\"csl-entry\">Stark, J. (n.d.). <i>Two Compartment Body Model and V d Terms</i>. Retrieved October 11, 2023, from https://pharmacy.ufl.edu/files/2013/01/two-compartment-model.pdf</div>\n",
    "\n",
    "16. <div class=\"csl-entry\">Jones, H. M., &#38; Rowland-Yeo, K. (2013). Basic Concepts in Physiologically Based Pharmacokinetic Modeling in Drug Discovery and Development. <i>CPT: Pharmacometrics &#38; Systems Pharmacology</i>, <i>2</i>(8), e63. https://doi.org/10.1038/PSP.2013.41</div>\n",
    "\n",
    "17. <div class=\"csl-entry\"><i>PHYSIOLOGICALLY-BASED PHARMACOKINETIC (PBPK) MODELS</i>. (2018). https://www.epa.gov/sites/default/files/2018-02/documents/pbpk_factsheet_feb2018_0.pdf</div>\n",
    "\n",
    "18. <div class=\"csl-entry\">Sharma P, Dunham A. Pharmacy Calculations. [Updated 2023 Jun 20]. In: StatPearls [Internet]. Treasure Island (FL): StatPearls Publishing; 2023 Jan-. Available from: https://www.ncbi.nlm.nih.gov/books/NBK560924/</div>\n",
    "\n",
    "19. <div class=\"csl-entry\">Barbour, A. M., &#38; Fossler, M. J. (2018). Infusions Are the Optimal Dosing Method in Intravenous ADME Studies Rather Than Bolus Dosing. In <i>Journal of Clinical Pharmacology</i> (Vol. 58, Issue 1, pp. 25–28). Blackwell Publishing Inc. https://doi.org/10.1002/jcph.991</div>\n",
    "\n",
    "20. <div class=\"csl-entry\">Price G, Patel DA. Drug Bioavailability. [Updated 2023 Jul 30]. In: StatPearls [Internet]. Treasure Island (FL): StatPearls Publishing; 2023 Jan-. Available from: https://www.ncbi.nlm.nih.gov/books/NBK557852/</div>\n",
    "\n",
    "21. <div class=\"csl-entry\">Mansoor A, Mahabadi N. Volume of Distribution. [Updated 2023 Jul 24]. In: StatPearls [Internet]. Treasure Island (FL): StatPearls Publishing; 2023 Jan-. Available from: https://www.ncbi.nlm.nih.gov/books/NBK545280/</div>\n",
    "\n",
    "22. <div class=\"csl-entry\"><i>Volume of distribution | Deranged Physiology</i>. (n.d.). Retrieved October 16, 2023, from https://derangedphysiology.com/main/cicm-primary-exam/required-reading/pharmacokinetics/Chapter%20202/volume-distribution</div>\n",
    "\n",
    "23. <div class=\"csl-entry\"> Garza AZ, Park SB, Kocz R. Drug Elimination. [Updated 2023 Jul 4]. In: StatPearls [Internet]. Treasure Island (FL): StatPearls Publishing; 2023 Jan-. Available from: https://www.ncbi.nlm.nih.gov/books/NBK547662/</div>\n",
    "\n",
    "24. <div class=\"csl-entry\">Holford, N., &#38; Yim, D.-S. (2015). Clearance. <i>Transl Clin Pharmacol</i>, <i>23</i>(2), 48–1992. https://doi.org/10.12793/tcp.2015.23.2.42</div>\n",
    "\n",
    "25. <div class=\"csl-entry\"> Horde GW, Gupta V. Drug Clearance. [Updated 2023 Jun 20]. In: StatPearls [Internet]. Treasure Island (FL): StatPearls Publishing; 2023 Jan-. Available from: https://www.ncbi.nlm.nih.gov/books/NBK557758/</div>\n",
    "\n",
    "26. <div class=\"csl-entry\">Felmlee, M. A., Morris, M. E., &#38; Mager, D. E. (2012). Mechanism-Based Pharmacodynamic Modeling. <i>Methods in Molecular Biology (Clifton, N.J.)</i>, <i>929</i>, 583. https://doi.org/10.1007/978-1-62703-050-2_21</div>\n",
    "\n",
    "27. <div class=\"csl-entry\">Lopez, C. F., Muhlich, J. L., Bachman, J. A., &#38; Sorger, P. K. (2013). Programming biological models in Python using PySB. <i>Molecular Systems Biology</i>, <i>9</i>(1), 646. https://doi.org/10.1038/MSB.2013.1</div>\n",
    "\n",
    "28. <div class=\"csl-entry\">Hogg, J. S., Harris, L. A., Stover, L. J., Nair, N. S., &#38; Faeder, J. R. (2014). Exact Hybrid Particle/Population Simulation of Rule-Based Models of Biochemical Systems. <i>PLOS Computational Biology</i>, <i>10</i>(4), e1003544. https://doi.org/10.1371/JOURNAL.PCBI.1003544</div>"
   ]
  },
  {
   "cell_type": "code",
   "execution_count": null,
   "id": "573ef13d-9905-475c-ac88-827052266eac",
   "metadata": {},
   "outputs": [],
   "source": []
  }
 ],
 "metadata": {
  "kernelspec": {
   "display_name": "Python 3 (ipykernel)",
   "language": "python",
   "name": "python3"
  },
  "language_info": {
   "codemirror_mode": {
    "name": "ipython",
    "version": 3
   },
   "file_extension": ".py",
   "mimetype": "text/x-python",
   "name": "python",
   "nbconvert_exporter": "python",
   "pygments_lexer": "ipython3",
   "version": "3.11.3"
  }
 },
 "nbformat": 4,
 "nbformat_minor": 5
}
