{
 "cells": [
  {
   "cell_type": "markdown",
   "id": "fa2f84d8-2e77-42f1-a745-6a7cc8d0311d",
   "metadata": {},
   "source": [
    "# Harnessing the speed of Julia in Python with PyJulia \n",
    "\n",
    "## A case study in the Monte Carlo estimation of Pi\n",
    "\n",
    "[tags]: Python, Julia, Monte Carlo"
   ]
  },
  {
   "cell_type": "markdown",
   "id": "7e532fc1-444f-4bed-b1e3-f3587f10ec0c",
   "metadata": {},
   "source": [
    "![image](https://drive.google.com/uc?id=1TVnJWb-HqociLFpClWGIGMtkHuMpR9HC) "
   ]
  },
  {
   "cell_type": "markdown",
   "id": "2cc2d43c-e28c-44c7-b8ff-88f23f08646f",
   "metadata": {},
   "source": [
    "In a [previous post](https://blakeaw.github.io/2019-09-20-numba-vs-julia/), I compared different Python implementations of a function to estimate pi using Monte Carlo sampling to one in [Julia](https://julialang.org/). In that case, the Julia version outperformed all the Python implementations I tried. So, when I recently learned about [PyJulia](https://pyjulia.readthedocs.io/en/latest/index.html), which can be used to call and execute Julia functions from Python code, I wanted to try it out and see if I could harness the speed of Julia to boost the performance of one of my Python packages. After trying it out, seeing how easy it could be, and achieving decent results for my specific use case, I decided to share some of what I learned here to help you take advantage of integrating Julia code into your Python packages. \n",
    "\n",
    "In this post, we'll revisit the Monte Carlo estimation of pi and use it as a case study to illustrate how Julia can be used with Python and PyJulia to dramatically boost the performance of numerically intensive functions without sacrificing a Pythonic interface. Specifically, we'll adapt the function for estimating pi using Monte Carlo sampling from my [previous post](https://blakeaw.github.io/2019-09-20-numba-vs-julia/) into two versions: a basic Python implementation using only standard libraries and a Julia version, integrated into Python using PyJulia. Both implementations will be encapsulated within modules to mimic the structure of a distributable Python package. We'll also measure the execution times of both versions using a fixed number of Monte Carlo samples (100,000,000) and compare their relative performance."
   ]
  },
  {
   "cell_type": "markdown",
   "id": "caf6b404-163f-4bab-a91b-eb5d6b811114",
   "metadata": {},
   "source": [
    "------"
   ]
  },
  {
   "cell_type": "markdown",
   "id": "685b1272-253f-42db-b34a-1a2b6a03877e",
   "metadata": {},
   "source": [
    "## Contents\n",
    "\n",
    "1. Setting Up Your Python and Julia Environment\n",
    "2. Basic Python Implementation\n",
    "3. Julia/PyJulia Implementation\n",
    "4. Closing Thoughts\n",
    "5. Acknowledgements"
   ]
  },
  {
   "cell_type": "markdown",
   "id": "bbeef907-18df-47fb-adee-7fba7b2a1d7f",
   "metadata": {},
   "source": [
    "------"
   ]
  },
  {
   "cell_type": "markdown",
   "id": "570a43e8-c492-40c0-a67d-5e28b158ad68",
   "metadata": {},
   "source": [
    "## Setting Up Your Python and Julia Environment\n",
    "\n",
    "### Python\n",
    "For this post, I'm using Python 3.10.11. I'm running inside a [conda](https://docs.conda.io/projects/miniconda/en/latest/) environment, but that's not absolutely necessary. However, if you want to run in a conda environment you can do:\n",
    "\n",
    "```\n",
    "conda create -n pimc-julia python=3.10.11\n",
    "```\n",
    "\n",
    "### Computational Notebook\n",
    "\n",
    "If you want to follow along in your own Jupyter notebook you can install [JupyterLab](https://jupyter.org/):\n",
    "\n",
    "```\n",
    "pip install jupyterlab\n",
    "```\n",
    "I used version 4.0.5.\n",
    "\n",
    "Or you could try [Google Colab](https://colab.google/).\n",
    "\n",
    "### Julia\n",
    "\n",
    "Julia downloads are available at [https://julialang.org/downloads/](https://julialang.org/downloads/). For this post, I used Julia version 1.9.2 installed using the Python utility [JILL](https://pypi.org/project/jill/) (version 0.11.5). \n",
    "\n",
    "```\n",
    "pip install jill\n",
    "```\n",
    "\n",
    "#### JILL install\n",
    "\n",
    "Installing Julia with JILL is pretty straightforward with a basic install using\n",
    "\n",
    "```\n",
    "jill install\n",
    "```\n",
    "\n",
    "JILL installs Julia in a particular location depending on your OS.\n",
    "\n",
    "**Windows**\n",
    "\n",
    "For Windows, the JILL install location is `~\\AppData\\Local\\julias` with a `julia.cmd` symlink file in `~\\AppData\\Local\\julias\\bin`. Since this is not in your `PATH`, I defined a new environment variable `JULIA_RUNTIME` that points to `~\\AppData\\Local\\julias\\bin\\julia.cmd` and used this to reference the Julia executable. This can be used later when setting up and when starting PyJulia. \n",
    "\n",
    "To start the Julia REPL from Powershell you can do:\n",
    "\n",
    "```\n",
    "iex $env:JULIA_RUNTIME\n",
    "```\n",
    "\n",
    "From Python, you can reference `JULIA_RUNTIME` using the `os` library:\n",
    "\n",
    "```\n",
    "import os\n",
    "\n",
    "JLR = os.environ.get(\"JULIA_RUNTIME\")\n",
    "```\n",
    "\n",
    "### PyJulia\n",
    "\n",
    "PyJulia installation instructions are available at [https://pyjulia.readthedocs.io/en/latest/installation.html](https://pyjulia.readthedocs.io/en/latest/installation.html). \n",
    "\n",
    "#### If using `JULIA_RUNTIME` environment variable\n",
    "\n",
    "If you are using the `JULIA_RUNTIME` environment variable (or some other location not in `PATH`) to specify the Julia executable then in step 3 in the Python REPL you can do:\n",
    "\n",
    "```python\n",
    ">>> import os\n",
    ">>> JLR = os.environ.get(\"JULIA_RUNTIME\")\n",
    ">>> import julia\n",
    ">>> julia.install(julia=JLR)\n",
    "```"
   ]
  },
  {
   "cell_type": "markdown",
   "id": "ce443cb6-ca78-44aa-80d2-508c02c5718e",
   "metadata": {},
   "source": [
    "------"
   ]
  },
  {
   "cell_type": "markdown",
   "id": "e1cc7825-0381-4fb9-9853-36ba07f60dbf",
   "metadata": {},
   "source": [
    "## Basic Python Implementation"
   ]
  },
  {
   "cell_type": "markdown",
   "id": "9f6cc138-1c9c-4b4a-aca5-aa1efbe9e801",
   "metadata": {},
   "source": [
    "We'll start with the basic Python implementation, creating our Python module named `pimc.py` with the following code:"
   ]
  },
  {
   "cell_type": "markdown",
   "id": "8e5cfb39-2f59-4d55-ac01-9251f3498931",
   "metadata": {},
   "source": [
    "```python\n",
    "import random\n",
    "import math\n",
    "\n",
    "\n",
    "def run(nMC: int, radius: float = 1.0) -> float:\n",
    "    \"\"\"Estimates Pi using Monte Carlo sampling.\n",
    "    \"\"\"    \n",
    "    diameter = 2.0 * radius\n",
    "    n_circle = 0\n",
    "    for i in range(nMC):\n",
    "        x = (random.random() - 0.5) * diameter\n",
    "        y = (random.random() - 0.5) * diameter\n",
    "        r = math.sqrt(x**2 + y**2)\n",
    "        if r <= radius:\n",
    "            n_circle += 1\n",
    "    return 4.0 * n_circle / nMC\n",
    "```    "
   ]
  },
  {
   "cell_type": "markdown",
   "id": "3d39a00d-481f-44f3-bf9d-759f6561a343",
   "metadata": {},
   "source": [
    "Then we can import the module here:"
   ]
  },
  {
   "cell_type": "code",
   "execution_count": 1,
   "id": "c2d8e149-e75b-449f-9702-86c31788e43d",
   "metadata": {},
   "outputs": [],
   "source": [
    "import pimc"
   ]
  },
  {
   "cell_type": "markdown",
   "id": "96e3d3c4-93ac-4511-bbd4-d0a90eb5b162",
   "metadata": {},
   "source": [
    "And, then set the number of Monte Carlo samples we want to draw in estimating pi:"
   ]
  },
  {
   "cell_type": "code",
   "execution_count": 2,
   "id": "3d3829ba-ad25-4561-a6b5-4101bfe99f61",
   "metadata": {},
   "outputs": [],
   "source": [
    "nsamples = 100000000"
   ]
  },
  {
   "cell_type": "markdown",
   "id": "d97c3002-45a8-4d75-9d57-a1ba8c8bdf90",
   "metadata": {},
   "source": [
    "Next, we can time the `pimc.run` function using the notebook [%timeit](https://ipython.readthedocs.io/en/stable/interactive/magics.html#magic-timeit) magic command:"
   ]
  },
  {
   "cell_type": "code",
   "execution_count": 3,
   "id": "15b84f2b-8250-4058-a54e-e23545a7dc83",
   "metadata": {},
   "outputs": [
    {
     "data": {
      "text/plain": [
       "<TimeitResult : 1min 2s ± 466 ms per loop (mean ± std. dev. of 3 runs, 1 loop each)>"
      ]
     },
     "execution_count": 3,
     "metadata": {},
     "output_type": "execute_result"
    }
   ],
   "source": [
    "%timeit -n 1 -r 3 -o -q pimc.run(nsamples)"
   ]
  },
  {
   "cell_type": "markdown",
   "id": "be155805-d9d7-4618-80a0-cf1c51c18ff9",
   "metadata": {},
   "source": [
    "We can see that on average this basic Python implementation takes about a minute to run with this number of samples."
   ]
  },
  {
   "cell_type": "markdown",
   "id": "4f38796f-8d90-4c67-9c85-63f3f3ded4bd",
   "metadata": {},
   "source": [
    "-----"
   ]
  },
  {
   "cell_type": "markdown",
   "id": "5585329a-badc-4631-9bf8-9db98e647f99",
   "metadata": {},
   "source": [
    "## Julia/PyJulia implementation"
   ]
  },
  {
   "cell_type": "markdown",
   "id": "8306c8aa-6622-4cda-9e76-437e9b069e9b",
   "metadata": {},
   "source": [
    "Now, we'll define and time the second version that uses Julia and PyJulia. \n",
    "\n",
    "First, we'll define the Julia implementation of the function in the module file named `pimc.jl` with code:"
   ]
  },
  {
   "cell_type": "markdown",
   "id": "862c9173-36cd-4914-a953-bb08acd75695",
   "metadata": {},
   "source": [
    "```julia\n",
    "function run_pimc(nMC, radius)\n",
    "    diameter = 2. * radius\n",
    "    n_circle = 0\n",
    "    for i in 1:nMC\n",
    "        x = (rand() - 0.5) * diameter\n",
    "        y = (rand() - 0.5) * diameter\n",
    "        r = sqrt(x^2 + y^2)\n",
    "        if r <= radius\n",
    "           n_circle += 1\n",
    "        end\n",
    "    end\n",
    "    return (n_circle/nMC) * 4.\n",
    "end\n",
    "```"
   ]
  },
  {
   "cell_type": "markdown",
   "id": "02665d98-b6ed-41c4-83da-eec73eae0421",
   "metadata": {},
   "source": [
    "Second, we'll define another Python module named `pimc_jl` with code:"
   ]
  },
  {
   "cell_type": "markdown",
   "id": "1afb0632-590e-4ebc-874d-ae2c451fb7a5",
   "metadata": {},
   "source": [
    "```python\n",
    "import os\n",
    "# import the Julia Main namespace and\n",
    "from julia import Main\n",
    "# Now, include the custom Julia module.\n",
    "MODPATH = os.path.dirname(os.path.abspath(__file__))\n",
    "JLPATH = os.path.join(MODPATH, \"pimc.jl\")\n",
    "Main.include(JLPATH)\n",
    "\n",
    "def run(nMC: int, radius: float = 1.0) -> float:\n",
    "    \"\"\"Estimates Pi using Monte Carlo sampling.\n",
    "    \"\"\"\n",
    "    \n",
    "    return Main.run_pimc(nMC, radius)\n",
    "```"
   ]
  },
  {
   "cell_type": "markdown",
   "id": "16069dc6-627f-4a7b-88ff-49f419fdc5dc",
   "metadata": {},
   "source": [
    "In this version of the Python module we use PyJulia to include and call the `pimc.jl` module and the `run_pimc` function defined in it. I went ahead and wrapped the `Main.run_pimc` call with the `run` function to mimic the basic Python implementation's `run` function. \n",
    "\n",
    "Now, we can import the new Python module:"
   ]
  },
  {
   "cell_type": "code",
   "execution_count": 4,
   "id": "7ab12573-541d-450e-b737-1dfc16417131",
   "metadata": {},
   "outputs": [],
   "source": [
    "%%capture\n",
    "import pimc_jl"
   ]
  },
  {
   "cell_type": "markdown",
   "id": "451d057f-c2c0-43ca-b060-ed223d18d87e",
   "metadata": {},
   "source": [
    "Here, we'll time an initial call to the Julia version. Be aware that Julia will compile the function on the first call, so there is some extra overhead for the initial call: "
   ]
  },
  {
   "cell_type": "code",
   "execution_count": 5,
   "id": "46057bf4-bf9c-4ab8-86dc-164811797d28",
   "metadata": {},
   "outputs": [
    {
     "name": "stdout",
     "output_type": "stream",
     "text": [
      "CPU times: total: 406 ms\n",
      "Wall time: 429 ms\n"
     ]
    },
    {
     "data": {
      "text/plain": [
       "3.14176728"
      ]
     },
     "execution_count": 5,
     "metadata": {},
     "output_type": "execute_result"
    }
   ],
   "source": [
    "%time pimc_jl.run(nsamples)"
   ]
  },
  {
   "cell_type": "markdown",
   "id": "5814161d-aa2b-452d-bc18-7075aa8aea0c",
   "metadata": {},
   "source": [
    "Even so, it is still significantly faster the the basic Python version."
   ]
  },
  {
   "cell_type": "markdown",
   "id": "ebd49ecf-2572-4df2-a582-eebf9b00f53a",
   "metadata": {},
   "source": [
    "Now, we'll more thoroughly benchmark the Julia version:"
   ]
  },
  {
   "cell_type": "code",
   "execution_count": 6,
   "id": "7e303a58-61a1-4b46-a732-e6e89a6575d9",
   "metadata": {},
   "outputs": [
    {
     "data": {
      "text/plain": [
       "<TimeitResult : 306 ms ± 21.3 ms per loop (mean ± std. dev. of 3 runs, 1 loop each)>"
      ]
     },
     "execution_count": 6,
     "metadata": {},
     "output_type": "execute_result"
    }
   ],
   "source": [
    "%timeit -n 1 -r 3 -o -q pimc_jl.run(nsamples)"
   ]
  },
  {
   "cell_type": "markdown",
   "id": "70251651-a4a9-44c9-9706-37e87f80ac3b",
   "metadata": {},
   "source": [
    "We can see that this version only takes about 306 milliseconds on average, which is around 200x faster than the basic Python implementation:"
   ]
  },
  {
   "cell_type": "code",
   "execution_count": 12,
   "id": "c42e1c21-013d-406b-ba07-fa4b2c91ef0c",
   "metadata": {},
   "outputs": [
    {
     "data": {
      "text/plain": [
       "202.6143790849673"
      ]
     },
     "execution_count": 12,
     "metadata": {},
     "output_type": "execute_result"
    }
   ],
   "source": [
    "# Basic Python / Julia version\n",
    "62. / 306e-3"
   ]
  },
  {
   "cell_type": "markdown",
   "id": "6ac30c12-a9d7-438d-b0db-0677c4397a02",
   "metadata": {},
   "source": [
    "That is a more than two orders of magnitude improvement!"
   ]
  },
  {
   "cell_type": "markdown",
   "id": "c51a5655-2b5d-4d0d-a634-2336ff5b9908",
   "metadata": {},
   "source": [
    "### If using `JULIA_RUNTIME` environment variable\n",
    "\n",
    "If you are using the `JULIA_RUNTIME` environment variable (or some other location not in `PATH`) to specify the Julia executable then you can add this additional code to the `pimc_jl.py`:"
   ]
  },
  {
   "cell_type": "markdown",
   "id": "9b6eeea7-e962-4337-adcd-d834430d10f8",
   "metadata": {},
   "source": [
    "```python\n",
    "# Extra boilerplate to handle a custom environment variable\n",
    "# to set the location of the Julia runtime executable:\n",
    "import warnings\n",
    "# Import PyJulia and setup\n",
    "# First, check for a custom Julia runtime\n",
    "# executable via the JULIA_RUNTIME environment variable.\n",
    "JLR = os.environ.get(\"JULIA_RUNTIME\")\n",
    "if JLR is not None:\n",
    "    from julia import Julia\n",
    "\n",
    "    JLR = os.path.abspath(JLR)\n",
    "    warn_message = \"Setting a custom Julia runtime from environment variable JULIA_RUNTIME: Julia(runtime={})\".format(\n",
    "        JLR\n",
    "    )\n",
    "    warnings.warn(warn_message, RuntimeWarning)\n",
    "    Julia(runtime=JLR)\n",
    "```"
   ]
  },
  {
   "cell_type": "markdown",
   "id": "a76975d3-7421-4d3f-8e9e-c556f00c4367",
   "metadata": {},
   "source": [
    "### What about overhead?\n",
    "\n",
    "Since there is type conversion going back and forth between Python and Julia there may be some overhead associated with calling Julia functions from Python. To gauge this effect for our case study here, we'll time the Julia version of the Pi Monte Carlo function here when called directly from Julia."
   ]
  },
  {
   "cell_type": "code",
   "execution_count": 40,
   "id": "b0014b1b-9b1f-4394-a6a0-ef58357cbbe8",
   "metadata": {},
   "outputs": [],
   "source": [
    "# If using the JULIA_RUNTIME environment variable, we'll\n",
    "# add it's location to the PATH variable so we can more\n",
    "# easily use the %%script magic command.\n",
    "import os\n",
    "import sys\n",
    "sys.path.append(os.path.dirname(os.environ.get(\"JULIA_RUNTIME\")))"
   ]
  },
  {
   "cell_type": "markdown",
   "id": "11309195-973a-4fd4-9640-ddc63b542015",
   "metadata": {},
   "source": [
    "Now, we'll use the `%%script` magic command to run Julia directly and time the `run_pimc` function defined in `pimc.jl`. Note that the location containing `julia.cmd` is now in our `PATH`. "
   ]
  },
  {
   "cell_type": "code",
   "execution_count": 43,
   "id": "f0bc2700-7d8f-4ace-9aaa-56a45fecf6e6",
   "metadata": {},
   "outputs": [
    {
     "name": "stdout",
     "output_type": "stream",
     "text": [
      "run_pimc (generic function with 1 method)\n",
      "time_pimc (generic function with 1 method)\n",
      "  0.270891 seconds\n",
      "  0.278231 seconds\n",
      "  0.267313 seconds\n"
     ]
    }
   ],
   "source": [
    "%%script julia.cmd\n",
    "\n",
    "include(\"pimc.jl\")\n",
    "\n",
    "function time_pimc()\n",
    "    nsamples = 100000000\n",
    "    radius = 1.0\n",
    "    for j in 1:3\n",
    "        @time run_pimc(nsamples, radius)\n",
    "    end\n",
    "    return\n",
    "end\n",
    "\n",
    "time_pimc()"
   ]
  },
  {
   "cell_type": "code",
   "execution_count": 44,
   "id": "d6aa7810-7b68-4d00-a544-5126b5247e56",
   "metadata": {},
   "outputs": [
    {
     "data": {
      "text/plain": [
       "0.272145"
      ]
     },
     "execution_count": 44,
     "metadata": {},
     "output_type": "execute_result"
    }
   ],
   "source": [
    "average_jl = (0.270891 + 0.278231 + 0.267313) / 3\n",
    "average_jl"
   ]
  },
  {
   "cell_type": "markdown",
   "id": "ed015820-a779-472e-ba98-d55953291b17",
   "metadata": {},
   "source": [
    "The Julia-invoked version takes roughly 272 ms, so calling the function in Python introduces an overhead of around 34 ms (~10-15% slower). While this overhead isn't really noticeable in this case, it's possible that it could accumulate and become more noticeable for frequently called functions. So, it's something to keep in mind, especially when considering which parts of your Python code you might port to Julia versus opting for other strategies like using [Numba](https://numba.pydata.org/) to accelerate Python functions.   "
   ]
  },
  {
   "cell_type": "markdown",
   "id": "14311553-7a40-4194-bd9a-fd451a0fd5e6",
   "metadata": {},
   "source": [
    "------"
   ]
  },
  {
   "cell_type": "markdown",
   "id": "32bc9554-7cb3-457c-8667-1355b594a3c0",
   "metadata": {},
   "source": [
    "## Closing Thoughts"
   ]
  },
  {
   "cell_type": "markdown",
   "id": "e4b153b0-dd59-4d91-8e44-4362170fe033",
   "metadata": {},
   "source": [
    "In this post, we covered an example of how Julia can be integrated into Python modules using PyJulia to dramatically boost the performance of numerically intensive functions. We revisited a case study I covered in a previous post [previous post](https://blakeaw.github.io/2019-09-20-numba-vs-julia/), estimating Pi using Monte Carlo sampling in a unit square. We compared the performance of a basic Python implementation and one where the core Monte Carlo routine was implemented in Julia and integrated back into Python using PyJulia. We found that the Julia-integrated version was a whopping two orders of magnitude (~200x) faster than the basic Python one!  \n",
    "\n",
    "For all the Python enthusiasts interested in ways to maximize performance, I hope you’ve found this post interesting and helpful. However, I know we've only just scratched the surface here. So, if you want to see more examples of how to integrate Julia into Python, then I recommend checking out [this blog post by Peter Baumgartner](https://www.peterbaumgartner.com/blog/incorporating-julia-into-python-programs/). It is pretty extensive, and I found it a very helpful resource in getting started with PyJulia.\n",
    "\n",
    "Now, it’s your turn. Go out and experiment more with integrating Julia into your own Python workflows. And, if you know someone else who might find this post interesting, please share!\n",
    "\n",
    "Well, that’s it. Thanks for stopping by! If you have questions or comments, feel free to [email me](mailto:blakeaw1102@gmail.com) or hit me up on [LinkedIn](https://www.linkedin.com/in/blakewilson3/).\n",
    "\n",
    "Until next time – Blake\n",
    "\n",
    "Like this content? You can follow this blog and get updated about new posts via my blog’s RSS/Atom Feed."
   ]
  },
  {
   "cell_type": "markdown",
   "id": "5386f935-df0b-4491-afd1-d9346dcb1f3b",
   "metadata": {},
   "source": [
    "------"
   ]
  },
  {
   "cell_type": "markdown",
   "id": "bbafe0a6-713e-4bd4-988f-538e3d84fb5c",
   "metadata": {},
   "source": [
    "## Acknowledgements\n",
    "\n",
    "ChatGPT was used to generate some initial post title ideas, and Grammarly and ChatGPT were both used for proofreading and editing.\n",
    "\n",
    "Source code images were generated using [carbon](https://carbon.now.sh/), and [GIMP](https://www.gimp.org/) was used for image editing. "
   ]
  }
 ],
 "metadata": {
  "kernelspec": {
   "display_name": "Python 3 (ipykernel)",
   "language": "python",
   "name": "python3"
  },
  "language_info": {
   "codemirror_mode": {
    "name": "ipython",
    "version": 3
   },
   "file_extension": ".py",
   "mimetype": "text/x-python",
   "name": "python",
   "nbconvert_exporter": "python",
   "pygments_lexer": "ipython3",
   "version": "3.10.11"
  }
 },
 "nbformat": 4,
 "nbformat_minor": 5
}
